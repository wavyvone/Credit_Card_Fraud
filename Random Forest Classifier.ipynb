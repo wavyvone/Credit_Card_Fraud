{
 "cells": [
  {
   "cell_type": "code",
   "execution_count": 6,
   "id": "90206599",
   "metadata": {},
   "outputs": [],
   "source": [
    "import pandas as pd\n",
    "from sklearn.ensemble import RandomForestClassifier\n",
    "from sklearn.model_selection import GridSearchCV\n",
    "from sklearn.metrics import accuracy_score, confusion_matrix, classification_report, f1_score"
   ]
  },
  {
   "cell_type": "code",
   "execution_count": 2,
   "id": "0d9719af",
   "metadata": {},
   "outputs": [
    {
     "name": "stdout",
     "output_type": "stream",
     "text": [
      "(800000, 8)\n",
      "(200000, 8)\n"
     ]
    },
    {
     "data": {
      "text/html": [
       "<div>\n",
       "<style scoped>\n",
       "    .dataframe tbody tr th:only-of-type {\n",
       "        vertical-align: middle;\n",
       "    }\n",
       "\n",
       "    .dataframe tbody tr th {\n",
       "        vertical-align: top;\n",
       "    }\n",
       "\n",
       "    .dataframe thead th {\n",
       "        text-align: right;\n",
       "    }\n",
       "</style>\n",
       "<table border=\"1\" class=\"dataframe\">\n",
       "  <thead>\n",
       "    <tr style=\"text-align: right;\">\n",
       "      <th></th>\n",
       "      <th>distance_from_home</th>\n",
       "      <th>distance_from_last_transaction</th>\n",
       "      <th>ratio_to_median_purchase_price</th>\n",
       "      <th>repeat_retailer</th>\n",
       "      <th>used_chip</th>\n",
       "      <th>used_pin_number</th>\n",
       "      <th>online_order</th>\n",
       "      <th>fraud</th>\n",
       "    </tr>\n",
       "  </thead>\n",
       "  <tbody>\n",
       "    <tr>\n",
       "      <th>0</th>\n",
       "      <td>5.572427</td>\n",
       "      <td>4.850337</td>\n",
       "      <td>1.149870</td>\n",
       "      <td>1.0</td>\n",
       "      <td>0.0</td>\n",
       "      <td>0.0</td>\n",
       "      <td>0.0</td>\n",
       "      <td>0.0</td>\n",
       "    </tr>\n",
       "    <tr>\n",
       "      <th>1</th>\n",
       "      <td>5.327530</td>\n",
       "      <td>3.933291</td>\n",
       "      <td>1.682739</td>\n",
       "      <td>1.0</td>\n",
       "      <td>1.0</td>\n",
       "      <td>0.0</td>\n",
       "      <td>1.0</td>\n",
       "      <td>0.0</td>\n",
       "    </tr>\n",
       "    <tr>\n",
       "      <th>2</th>\n",
       "      <td>78.945633</td>\n",
       "      <td>0.023222</td>\n",
       "      <td>2.740935</td>\n",
       "      <td>1.0</td>\n",
       "      <td>1.0</td>\n",
       "      <td>0.0</td>\n",
       "      <td>1.0</td>\n",
       "      <td>0.0</td>\n",
       "    </tr>\n",
       "    <tr>\n",
       "      <th>3</th>\n",
       "      <td>10.119026</td>\n",
       "      <td>26.548445</td>\n",
       "      <td>1.945075</td>\n",
       "      <td>1.0</td>\n",
       "      <td>0.0</td>\n",
       "      <td>0.0</td>\n",
       "      <td>0.0</td>\n",
       "      <td>0.0</td>\n",
       "    </tr>\n",
       "    <tr>\n",
       "      <th>4</th>\n",
       "      <td>33.646388</td>\n",
       "      <td>1.909240</td>\n",
       "      <td>0.888281</td>\n",
       "      <td>1.0</td>\n",
       "      <td>0.0</td>\n",
       "      <td>0.0</td>\n",
       "      <td>0.0</td>\n",
       "      <td>0.0</td>\n",
       "    </tr>\n",
       "  </tbody>\n",
       "</table>\n",
       "</div>"
      ],
      "text/plain": [
       "   distance_from_home  distance_from_last_transaction  \\\n",
       "0            5.572427                        4.850337   \n",
       "1            5.327530                        3.933291   \n",
       "2           78.945633                        0.023222   \n",
       "3           10.119026                       26.548445   \n",
       "4           33.646388                        1.909240   \n",
       "\n",
       "   ratio_to_median_purchase_price  repeat_retailer  used_chip  \\\n",
       "0                        1.149870              1.0        0.0   \n",
       "1                        1.682739              1.0        1.0   \n",
       "2                        2.740935              1.0        1.0   \n",
       "3                        1.945075              1.0        0.0   \n",
       "4                        0.888281              1.0        0.0   \n",
       "\n",
       "   used_pin_number  online_order  fraud  \n",
       "0              0.0           0.0    0.0  \n",
       "1              0.0           1.0    0.0  \n",
       "2              0.0           1.0    0.0  \n",
       "3              0.0           0.0    0.0  \n",
       "4              0.0           0.0    0.0  "
      ]
     },
     "execution_count": 2,
     "metadata": {},
     "output_type": "execute_result"
    }
   ],
   "source": [
    "train_url = \"./Data/Train/train_data.csv\"\n",
    "test_url = \"./Data/Test/test_data.csv\"\n",
    "\n",
    "train_data = pd.read_csv(train_url)\n",
    "test_data = pd.read_csv(test_url)\n",
    "\n",
    "print(train_data.shape)\n",
    "print(test_data.shape)\n",
    "train_data.head()"
   ]
  },
  {
   "cell_type": "code",
   "execution_count": 3,
   "id": "2b8b0f10",
   "metadata": {},
   "outputs": [
    {
     "name": "stdout",
     "output_type": "stream",
     "text": [
      "Train Data Shape (800000, 7) (800000,)\n",
      "0.0    730181\n",
      "1.0     69819\n",
      "Name: fraud, dtype: int64\n",
      "Test Data Shape (200000, 7) (200000,)\n",
      "0.0    182416\n",
      "1.0     17584\n",
      "Name: fraud, dtype: int64\n"
     ]
    },
    {
     "data": {
      "text/html": [
       "<div>\n",
       "<style scoped>\n",
       "    .dataframe tbody tr th:only-of-type {\n",
       "        vertical-align: middle;\n",
       "    }\n",
       "\n",
       "    .dataframe tbody tr th {\n",
       "        vertical-align: top;\n",
       "    }\n",
       "\n",
       "    .dataframe thead th {\n",
       "        text-align: right;\n",
       "    }\n",
       "</style>\n",
       "<table border=\"1\" class=\"dataframe\">\n",
       "  <thead>\n",
       "    <tr style=\"text-align: right;\">\n",
       "      <th></th>\n",
       "      <th>distance_from_home</th>\n",
       "      <th>distance_from_last_transaction</th>\n",
       "      <th>ratio_to_median_purchase_price</th>\n",
       "      <th>repeat_retailer</th>\n",
       "      <th>used_chip</th>\n",
       "      <th>used_pin_number</th>\n",
       "      <th>online_order</th>\n",
       "    </tr>\n",
       "  </thead>\n",
       "  <tbody>\n",
       "    <tr>\n",
       "      <th>0</th>\n",
       "      <td>5.572427</td>\n",
       "      <td>4.850337</td>\n",
       "      <td>1.149870</td>\n",
       "      <td>1.0</td>\n",
       "      <td>0.0</td>\n",
       "      <td>0.0</td>\n",
       "      <td>0.0</td>\n",
       "    </tr>\n",
       "    <tr>\n",
       "      <th>1</th>\n",
       "      <td>5.327530</td>\n",
       "      <td>3.933291</td>\n",
       "      <td>1.682739</td>\n",
       "      <td>1.0</td>\n",
       "      <td>1.0</td>\n",
       "      <td>0.0</td>\n",
       "      <td>1.0</td>\n",
       "    </tr>\n",
       "    <tr>\n",
       "      <th>2</th>\n",
       "      <td>78.945633</td>\n",
       "      <td>0.023222</td>\n",
       "      <td>2.740935</td>\n",
       "      <td>1.0</td>\n",
       "      <td>1.0</td>\n",
       "      <td>0.0</td>\n",
       "      <td>1.0</td>\n",
       "    </tr>\n",
       "    <tr>\n",
       "      <th>3</th>\n",
       "      <td>10.119026</td>\n",
       "      <td>26.548445</td>\n",
       "      <td>1.945075</td>\n",
       "      <td>1.0</td>\n",
       "      <td>0.0</td>\n",
       "      <td>0.0</td>\n",
       "      <td>0.0</td>\n",
       "    </tr>\n",
       "    <tr>\n",
       "      <th>4</th>\n",
       "      <td>33.646388</td>\n",
       "      <td>1.909240</td>\n",
       "      <td>0.888281</td>\n",
       "      <td>1.0</td>\n",
       "      <td>0.0</td>\n",
       "      <td>0.0</td>\n",
       "      <td>0.0</td>\n",
       "    </tr>\n",
       "  </tbody>\n",
       "</table>\n",
       "</div>"
      ],
      "text/plain": [
       "   distance_from_home  distance_from_last_transaction  \\\n",
       "0            5.572427                        4.850337   \n",
       "1            5.327530                        3.933291   \n",
       "2           78.945633                        0.023222   \n",
       "3           10.119026                       26.548445   \n",
       "4           33.646388                        1.909240   \n",
       "\n",
       "   ratio_to_median_purchase_price  repeat_retailer  used_chip  \\\n",
       "0                        1.149870              1.0        0.0   \n",
       "1                        1.682739              1.0        1.0   \n",
       "2                        2.740935              1.0        1.0   \n",
       "3                        1.945075              1.0        0.0   \n",
       "4                        0.888281              1.0        0.0   \n",
       "\n",
       "   used_pin_number  online_order  \n",
       "0              0.0           0.0  \n",
       "1              0.0           1.0  \n",
       "2              0.0           1.0  \n",
       "3              0.0           0.0  \n",
       "4              0.0           0.0  "
      ]
     },
     "execution_count": 3,
     "metadata": {},
     "output_type": "execute_result"
    }
   ],
   "source": [
    "train_X, train_Y = train_data.drop(\"fraud\", axis=1), train_data[\"fraud\"]\n",
    "test_X, test_Y = test_data.drop(\"fraud\", axis=1), test_data[\"fraud\"]\n",
    "print(\"Train Data Shape\", train_X.shape, train_Y.shape)\n",
    "print(train_Y.value_counts())\n",
    "print(\"Test Data Shape\", test_X.shape, test_Y.shape)\n",
    "print(test_Y.value_counts())\n",
    "train_X.head()"
   ]
  },
  {
   "cell_type": "markdown",
   "id": "fd698d45",
   "metadata": {},
   "source": [
    "# Random Forest Classifier\n",
    "## Single Classifier"
   ]
  },
  {
   "cell_type": "code",
   "execution_count": 21,
   "id": "800b88e9",
   "metadata": {},
   "outputs": [],
   "source": [
    "clf = RandomForestClassifier(n_estimators=100, max_depth=5)"
   ]
  },
  {
   "cell_type": "code",
   "execution_count": 22,
   "id": "6ca80dfb",
   "metadata": {},
   "outputs": [
    {
     "data": {
      "text/plain": [
       "RandomForestClassifier(max_depth=5)"
      ]
     },
     "execution_count": 22,
     "metadata": {},
     "output_type": "execute_result"
    }
   ],
   "source": [
    "clf.fit(train_X, train_Y)"
   ]
  },
  {
   "cell_type": "code",
   "execution_count": 24,
   "id": "6e19183b",
   "metadata": {},
   "outputs": [
    {
     "data": {
      "text/plain": [
       "0.999655"
      ]
     },
     "execution_count": 24,
     "metadata": {},
     "output_type": "execute_result"
    }
   ],
   "source": [
    "pred_Y = clf.predict(test_X)\n",
    "accuracy_score(test_Y, pred_Y)"
   ]
  },
  {
   "cell_type": "code",
   "execution_count": 27,
   "id": "5518f7c8",
   "metadata": {},
   "outputs": [
    {
     "data": {
      "text/plain": [
       "array([[182416,      0],\n",
       "       [    69,  17515]], dtype=int64)"
      ]
     },
     "execution_count": 27,
     "metadata": {},
     "output_type": "execute_result"
    }
   ],
   "source": [
    "confusion_matrix(test_Y, pred_Y)"
   ]
  },
  {
   "cell_type": "markdown",
   "id": "e6c69516",
   "metadata": {},
   "source": [
    "## Hyperparameter Tuning"
   ]
  },
  {
   "cell_type": "code",
   "execution_count": 41,
   "id": "4482f3e9",
   "metadata": {},
   "outputs": [
    {
     "name": "stdout",
     "output_type": "stream",
     "text": [
      "Fitting 5 folds for each of 30 candidates, totalling 150 fits\n",
      "[CV 1/5] END .......max_depth=5, n_estimators=5;, score=0.987 total time=   3.3s\n",
      "[CV 2/5] END .......max_depth=5, n_estimators=5;, score=0.998 total time=   3.0s\n",
      "[CV 3/5] END .......max_depth=5, n_estimators=5;, score=0.983 total time=   3.4s\n",
      "[CV 4/5] END .......max_depth=5, n_estimators=5;, score=0.997 total time=   3.9s\n",
      "[CV 5/5] END .......max_depth=5, n_estimators=5;, score=0.986 total time=   3.5s\n",
      "[CV 1/5] END ......max_depth=5, n_estimators=10;, score=0.999 total time=   6.7s\n",
      "[CV 2/5] END ......max_depth=5, n_estimators=10;, score=0.982 total time=   6.4s\n",
      "[CV 3/5] END ......max_depth=5, n_estimators=10;, score=0.999 total time=   6.7s\n",
      "[CV 4/5] END ......max_depth=5, n_estimators=10;, score=1.000 total time=   7.0s\n",
      "[CV 5/5] END ......max_depth=5, n_estimators=10;, score=0.999 total time=   6.7s\n",
      "[CV 1/5] END ......max_depth=5, n_estimators=15;, score=0.997 total time=  10.0s\n",
      "[CV 2/5] END ......max_depth=5, n_estimators=15;, score=0.995 total time=  10.3s\n",
      "[CV 3/5] END ......max_depth=5, n_estimators=15;, score=0.987 total time=   9.7s\n",
      "[CV 4/5] END ......max_depth=5, n_estimators=15;, score=1.000 total time=  10.8s\n",
      "[CV 5/5] END ......max_depth=5, n_estimators=15;, score=1.000 total time=  10.4s\n",
      "[CV 1/5] END ......max_depth=5, n_estimators=20;, score=0.982 total time=  14.2s\n",
      "[CV 2/5] END ......max_depth=5, n_estimators=20;, score=0.998 total time=  14.4s\n",
      "[CV 3/5] END ......max_depth=5, n_estimators=20;, score=0.994 total time=  12.7s\n",
      "[CV 4/5] END ......max_depth=5, n_estimators=20;, score=0.982 total time=  13.4s\n",
      "[CV 5/5] END ......max_depth=5, n_estimators=20;, score=0.995 total time=  13.5s\n",
      "[CV 1/5] END ......max_depth=5, n_estimators=25;, score=0.999 total time=  17.0s\n",
      "[CV 2/5] END ......max_depth=5, n_estimators=25;, score=0.999 total time=  18.0s\n",
      "[CV 3/5] END ......max_depth=5, n_estimators=25;, score=0.998 total time=  16.7s\n",
      "[CV 4/5] END ......max_depth=5, n_estimators=25;, score=0.999 total time=  16.7s\n",
      "[CV 5/5] END ......max_depth=5, n_estimators=25;, score=0.998 total time=  15.8s\n",
      "[CV 1/5] END ......max_depth=5, n_estimators=30;, score=1.000 total time=  20.9s\n",
      "[CV 2/5] END ......max_depth=5, n_estimators=30;, score=0.998 total time=  20.3s\n",
      "[CV 3/5] END ......max_depth=5, n_estimators=30;, score=0.998 total time=  20.8s\n",
      "[CV 4/5] END ......max_depth=5, n_estimators=30;, score=1.000 total time=  29.1s\n",
      "[CV 5/5] END ......max_depth=5, n_estimators=30;, score=0.999 total time=  25.8s\n",
      "[CV 1/5] END ......max_depth=5, n_estimators=35;, score=0.999 total time=  32.5s\n",
      "[CV 2/5] END ......max_depth=5, n_estimators=35;, score=1.000 total time=  32.6s\n",
      "[CV 3/5] END ......max_depth=5, n_estimators=35;, score=1.000 total time=  33.5s\n",
      "[CV 4/5] END ......max_depth=5, n_estimators=35;, score=0.997 total time=  33.6s\n",
      "[CV 5/5] END ......max_depth=5, n_estimators=35;, score=0.999 total time=  29.2s\n",
      "[CV 1/5] END ......max_depth=5, n_estimators=40;, score=0.999 total time=  35.4s\n",
      "[CV 2/5] END ......max_depth=5, n_estimators=40;, score=0.997 total time=  35.5s\n",
      "[CV 3/5] END ......max_depth=5, n_estimators=40;, score=0.997 total time=  35.5s\n",
      "[CV 4/5] END ......max_depth=5, n_estimators=40;, score=0.995 total time=  34.4s\n",
      "[CV 5/5] END ......max_depth=5, n_estimators=40;, score=1.000 total time=  35.2s\n",
      "[CV 1/5] END ......max_depth=5, n_estimators=45;, score=1.000 total time=  42.9s\n",
      "[CV 2/5] END ......max_depth=5, n_estimators=45;, score=0.999 total time=  39.6s\n",
      "[CV 3/5] END ......max_depth=5, n_estimators=45;, score=0.993 total time=  40.0s\n",
      "[CV 4/5] END ......max_depth=5, n_estimators=45;, score=1.000 total time=  40.8s\n",
      "[CV 5/5] END ......max_depth=5, n_estimators=45;, score=0.997 total time=  40.6s\n",
      "[CV 1/5] END ......max_depth=5, n_estimators=50;, score=0.999 total time=  45.9s\n",
      "[CV 2/5] END ......max_depth=5, n_estimators=50;, score=0.999 total time=  46.0s\n",
      "[CV 3/5] END ......max_depth=5, n_estimators=50;, score=0.997 total time=  45.6s\n",
      "[CV 4/5] END ......max_depth=5, n_estimators=50;, score=1.000 total time=  44.6s\n",
      "[CV 5/5] END ......max_depth=5, n_estimators=50;, score=0.998 total time=  44.2s\n",
      "[CV 1/5] END ......max_depth=10, n_estimators=5;, score=1.000 total time=   6.1s\n",
      "[CV 2/5] END ......max_depth=10, n_estimators=5;, score=1.000 total time=   5.6s\n",
      "[CV 3/5] END ......max_depth=10, n_estimators=5;, score=1.000 total time=   4.8s\n",
      "[CV 4/5] END ......max_depth=10, n_estimators=5;, score=1.000 total time=   5.3s\n",
      "[CV 5/5] END ......max_depth=10, n_estimators=5;, score=1.000 total time=   6.7s\n",
      "[CV 1/5] END .....max_depth=10, n_estimators=10;, score=1.000 total time=  12.2s\n",
      "[CV 2/5] END .....max_depth=10, n_estimators=10;, score=1.000 total time=  11.8s\n",
      "[CV 3/5] END .....max_depth=10, n_estimators=10;, score=1.000 total time=  11.7s\n",
      "[CV 4/5] END .....max_depth=10, n_estimators=10;, score=1.000 total time=  12.6s\n",
      "[CV 5/5] END .....max_depth=10, n_estimators=10;, score=1.000 total time=   9.8s\n",
      "[CV 1/5] END .....max_depth=10, n_estimators=15;, score=1.000 total time=  16.8s\n",
      "[CV 2/5] END .....max_depth=10, n_estimators=15;, score=1.000 total time=  16.8s\n",
      "[CV 3/5] END .....max_depth=10, n_estimators=15;, score=1.000 total time=  17.2s\n",
      "[CV 4/5] END .....max_depth=10, n_estimators=15;, score=1.000 total time=  17.0s\n",
      "[CV 5/5] END .....max_depth=10, n_estimators=15;, score=1.000 total time=  15.6s\n",
      "[CV 1/5] END .....max_depth=10, n_estimators=20;, score=1.000 total time=  22.9s\n",
      "[CV 2/5] END .....max_depth=10, n_estimators=20;, score=1.000 total time=  23.7s\n",
      "[CV 3/5] END .....max_depth=10, n_estimators=20;, score=1.000 total time=  22.9s\n",
      "[CV 4/5] END .....max_depth=10, n_estimators=20;, score=1.000 total time=  21.8s\n",
      "[CV 5/5] END .....max_depth=10, n_estimators=20;, score=1.000 total time=  22.7s\n",
      "[CV 1/5] END .....max_depth=10, n_estimators=25;, score=1.000 total time=  28.4s\n",
      "[CV 2/5] END .....max_depth=10, n_estimators=25;, score=1.000 total time=  26.1s\n",
      "[CV 3/5] END .....max_depth=10, n_estimators=25;, score=1.000 total time=  27.9s\n",
      "[CV 4/5] END .....max_depth=10, n_estimators=25;, score=1.000 total time=  28.0s\n",
      "[CV 5/5] END .....max_depth=10, n_estimators=25;, score=1.000 total time=  28.3s\n",
      "[CV 1/5] END .....max_depth=10, n_estimators=30;, score=1.000 total time=  34.3s\n",
      "[CV 2/5] END .....max_depth=10, n_estimators=30;, score=1.000 total time=  37.2s\n",
      "[CV 3/5] END .....max_depth=10, n_estimators=30;, score=1.000 total time=  25.5s\n",
      "[CV 4/5] END .....max_depth=10, n_estimators=30;, score=1.000 total time=  24.5s\n",
      "[CV 5/5] END .....max_depth=10, n_estimators=30;, score=1.000 total time=  24.1s\n",
      "[CV 1/5] END .....max_depth=10, n_estimators=35;, score=1.000 total time=  27.8s\n",
      "[CV 2/5] END .....max_depth=10, n_estimators=35;, score=1.000 total time=  29.2s\n",
      "[CV 3/5] END .....max_depth=10, n_estimators=35;, score=1.000 total time=  28.7s\n",
      "[CV 4/5] END .....max_depth=10, n_estimators=35;, score=1.000 total time=  31.3s\n",
      "[CV 5/5] END .....max_depth=10, n_estimators=35;, score=1.000 total time=  29.4s\n",
      "[CV 1/5] END .....max_depth=10, n_estimators=40;, score=1.000 total time=  33.9s\n",
      "[CV 2/5] END .....max_depth=10, n_estimators=40;, score=1.000 total time=  36.6s\n",
      "[CV 3/5] END .....max_depth=10, n_estimators=40;, score=1.000 total time=  34.1s\n",
      "[CV 4/5] END .....max_depth=10, n_estimators=40;, score=1.000 total time=  31.3s\n",
      "[CV 5/5] END .....max_depth=10, n_estimators=40;, score=1.000 total time=  32.8s\n",
      "[CV 1/5] END .....max_depth=10, n_estimators=45;, score=1.000 total time=  38.3s\n",
      "[CV 2/5] END .....max_depth=10, n_estimators=45;, score=1.000 total time=  34.6s\n",
      "[CV 3/5] END .....max_depth=10, n_estimators=45;, score=1.000 total time=  35.4s\n",
      "[CV 4/5] END .....max_depth=10, n_estimators=45;, score=1.000 total time=  36.3s\n",
      "[CV 5/5] END .....max_depth=10, n_estimators=45;, score=1.000 total time=  38.6s\n",
      "[CV 1/5] END .....max_depth=10, n_estimators=50;, score=1.000 total time=  38.8s\n",
      "[CV 2/5] END .....max_depth=10, n_estimators=50;, score=1.000 total time=  43.7s\n",
      "[CV 3/5] END .....max_depth=10, n_estimators=50;, score=1.000 total time=  44.0s\n",
      "[CV 4/5] END .....max_depth=10, n_estimators=50;, score=1.000 total time=  42.3s\n",
      "[CV 5/5] END .....max_depth=10, n_estimators=50;, score=1.000 total time=  43.5s\n",
      "[CV 1/5] END ......max_depth=15, n_estimators=5;, score=1.000 total time=   4.7s\n"
     ]
    },
    {
     "name": "stdout",
     "output_type": "stream",
     "text": [
      "[CV 2/5] END ......max_depth=15, n_estimators=5;, score=1.000 total time=   4.5s\n",
      "[CV 3/5] END ......max_depth=15, n_estimators=5;, score=1.000 total time=   4.1s\n",
      "[CV 4/5] END ......max_depth=15, n_estimators=5;, score=1.000 total time=   5.0s\n",
      "[CV 5/5] END ......max_depth=15, n_estimators=5;, score=1.000 total time=   4.9s\n",
      "[CV 1/5] END .....max_depth=15, n_estimators=10;, score=1.000 total time=   8.9s\n",
      "[CV 2/5] END .....max_depth=15, n_estimators=10;, score=1.000 total time=   8.1s\n",
      "[CV 3/5] END .....max_depth=15, n_estimators=10;, score=1.000 total time=   9.4s\n",
      "[CV 4/5] END .....max_depth=15, n_estimators=10;, score=1.000 total time=   8.7s\n",
      "[CV 5/5] END .....max_depth=15, n_estimators=10;, score=1.000 total time=   9.3s\n",
      "[CV 1/5] END .....max_depth=15, n_estimators=15;, score=1.000 total time=  12.1s\n",
      "[CV 2/5] END .....max_depth=15, n_estimators=15;, score=1.000 total time=  13.4s\n",
      "[CV 3/5] END .....max_depth=15, n_estimators=15;, score=1.000 total time=  13.7s\n",
      "[CV 4/5] END .....max_depth=15, n_estimators=15;, score=1.000 total time=  12.8s\n",
      "[CV 5/5] END .....max_depth=15, n_estimators=15;, score=1.000 total time=  14.7s\n",
      "[CV 1/5] END .....max_depth=15, n_estimators=20;, score=1.000 total time=  17.8s\n",
      "[CV 2/5] END .....max_depth=15, n_estimators=20;, score=1.000 total time=  17.7s\n",
      "[CV 3/5] END .....max_depth=15, n_estimators=20;, score=1.000 total time=  17.7s\n",
      "[CV 4/5] END .....max_depth=15, n_estimators=20;, score=1.000 total time=  20.0s\n",
      "[CV 5/5] END .....max_depth=15, n_estimators=20;, score=1.000 total time=  17.0s\n",
      "[CV 1/5] END .....max_depth=15, n_estimators=25;, score=1.000 total time=  22.5s\n",
      "[CV 2/5] END .....max_depth=15, n_estimators=25;, score=1.000 total time=  21.9s\n",
      "[CV 3/5] END .....max_depth=15, n_estimators=25;, score=1.000 total time=  23.8s\n",
      "[CV 4/5] END .....max_depth=15, n_estimators=25;, score=1.000 total time=  21.4s\n",
      "[CV 5/5] END .....max_depth=15, n_estimators=25;, score=1.000 total time=  22.9s\n",
      "[CV 1/5] END .....max_depth=15, n_estimators=30;, score=1.000 total time=  25.5s\n",
      "[CV 2/5] END .....max_depth=15, n_estimators=30;, score=1.000 total time=  26.8s\n",
      "[CV 3/5] END .....max_depth=15, n_estimators=30;, score=1.000 total time=  26.6s\n",
      "[CV 4/5] END .....max_depth=15, n_estimators=30;, score=1.000 total time=  28.2s\n",
      "[CV 5/5] END .....max_depth=15, n_estimators=30;, score=1.000 total time=  25.8s\n",
      "[CV 1/5] END .....max_depth=15, n_estimators=35;, score=1.000 total time=  29.5s\n",
      "[CV 2/5] END .....max_depth=15, n_estimators=35;, score=1.000 total time=  31.3s\n",
      "[CV 3/5] END .....max_depth=15, n_estimators=35;, score=1.000 total time=  30.0s\n",
      "[CV 4/5] END .....max_depth=15, n_estimators=35;, score=1.000 total time=  29.6s\n",
      "[CV 5/5] END .....max_depth=15, n_estimators=35;, score=1.000 total time=  30.7s\n",
      "[CV 1/5] END .....max_depth=15, n_estimators=40;, score=1.000 total time=  33.0s\n",
      "[CV 2/5] END .....max_depth=15, n_estimators=40;, score=1.000 total time=  35.9s\n",
      "[CV 3/5] END .....max_depth=15, n_estimators=40;, score=1.000 total time=  35.0s\n",
      "[CV 4/5] END .....max_depth=15, n_estimators=40;, score=1.000 total time=  36.5s\n",
      "[CV 5/5] END .....max_depth=15, n_estimators=40;, score=1.000 total time=  36.4s\n",
      "[CV 1/5] END .....max_depth=15, n_estimators=45;, score=1.000 total time=  38.1s\n",
      "[CV 2/5] END .....max_depth=15, n_estimators=45;, score=1.000 total time=  39.0s\n",
      "[CV 3/5] END .....max_depth=15, n_estimators=45;, score=1.000 total time=  39.7s\n",
      "[CV 4/5] END .....max_depth=15, n_estimators=45;, score=1.000 total time=  40.2s\n",
      "[CV 5/5] END .....max_depth=15, n_estimators=45;, score=1.000 total time=  38.9s\n",
      "[CV 1/5] END .....max_depth=15, n_estimators=50;, score=1.000 total time=  43.7s\n",
      "[CV 2/5] END .....max_depth=15, n_estimators=50;, score=1.000 total time=  44.7s\n",
      "[CV 3/5] END .....max_depth=15, n_estimators=50;, score=1.000 total time=  43.8s\n",
      "[CV 4/5] END .....max_depth=15, n_estimators=50;, score=1.000 total time=  44.5s\n",
      "[CV 5/5] END .....max_depth=15, n_estimators=50;, score=1.000 total time=  41.9s\n"
     ]
    },
    {
     "ename": "NameError",
     "evalue": "name 'rfc_grid' is not defined",
     "output_type": "error",
     "traceback": [
      "\u001b[1;31m---------------------------------------------------------------------------\u001b[0m",
      "\u001b[1;31mNameError\u001b[0m                                 Traceback (most recent call last)",
      "Input \u001b[1;32mIn [41]\u001b[0m, in \u001b[0;36m<module>\u001b[1;34m\u001b[0m\n\u001b[0;32m      5\u001b[0m clf_grid \u001b[38;5;241m=\u001b[39m GridSearchCV(estimator\u001b[38;5;241m=\u001b[39mRandomForestClassifier(),\n\u001b[0;32m      6\u001b[0m              param_grid\u001b[38;5;241m=\u001b[39mparam_grid, scoring\u001b[38;5;241m=\u001b[39m\u001b[38;5;124m'\u001b[39m\u001b[38;5;124maccuracy\u001b[39m\u001b[38;5;124m'\u001b[39m, verbose\u001b[38;5;241m=\u001b[39m\u001b[38;5;241m3\u001b[39m)\n\u001b[0;32m      7\u001b[0m clf_grid\u001b[38;5;241m.\u001b[39mfit(train_X, train_Y)\n\u001b[1;32m----> 9\u001b[0m \u001b[38;5;28mprint\u001b[39m(\u001b[38;5;124mf\u001b[39m\u001b[38;5;124m'\u001b[39m\u001b[38;5;124mBest score obtained with RFC: \u001b[39m\u001b[38;5;132;01m{\u001b[39;00mrfc_grid\u001b[38;5;241m.\u001b[39mbest_score_\u001b[38;5;132;01m}\u001b[39;00m\u001b[38;5;124m'\u001b[39m)\n\u001b[0;32m     10\u001b[0m \u001b[38;5;28mprint\u001b[39m(\u001b[38;5;124m'\u001b[39m\u001b[38;5;124mBest Params\u001b[39m\u001b[38;5;124m'\u001b[39m, rfc_grid\u001b[38;5;241m.\u001b[39mbest_params_)\n",
      "\u001b[1;31mNameError\u001b[0m: name 'rfc_grid' is not defined"
     ]
    }
   ],
   "source": [
    "n_estimators_range = range(5, 51, 5)\n",
    "max_depth_range = range(5, 20, 5)\n",
    "param_grid ={'n_estimators': n_estimators_range, 'max_depth': max_depth_range}\n",
    "\n",
    "clf_grid = GridSearchCV(estimator=RandomForestClassifier(),\n",
    "             param_grid=param_grid, scoring='accuracy', verbose=3)\n",
    "clf_grid.fit(train_X, train_Y)\n",
    "\n",
    "print(f'Best score obtained with RFC: {rfc_grid.best_score_}')\n",
    "print('Best Params', rfc_grid.best_params_)"
   ]
  },
  {
   "cell_type": "code",
   "execution_count": 44,
   "id": "b3bfa93d",
   "metadata": {},
   "outputs": [
    {
     "name": "stdout",
     "output_type": "stream",
     "text": [
      "Best score obtained with Random Forest Classifier: 0.999995\n",
      "Best Params {'max_depth': 15, 'n_estimators': 15}\n"
     ]
    }
   ],
   "source": [
    "print(f'Best score obtained with Random Forest Classifier: {clf_grid.best_score_}')\n",
    "print('Best Params', clf_grid.best_params_)"
   ]
  },
  {
   "cell_type": "markdown",
   "id": "124788a3",
   "metadata": {},
   "source": [
    "## Most Optimal Model"
   ]
  },
  {
   "cell_type": "code",
   "execution_count": 45,
   "id": "31c8b1da",
   "metadata": {},
   "outputs": [
    {
     "name": "stdout",
     "output_type": "stream",
     "text": [
      "Accuracy: 0.999495\n"
     ]
    },
    {
     "data": {
      "text/plain": [
       "array([[182416,      0],\n",
       "       [   101,  17483]], dtype=int64)"
      ]
     },
     "execution_count": 45,
     "metadata": {},
     "output_type": "execute_result"
    }
   ],
   "source": [
    "best_clf = RandomForestClassifier(n_estimators=15, max_depth=15)\n",
    "best_clf.fit(train_X, train_Y)\n",
    "pred_Y = best_clf.predict(test_X)\n",
    "print(\"Accuracy:\", accuracy_score(test_Y, pred_Y))\n",
    "confusion_matrix = confusion_matrix(test_Y, pred_Y)"
   ]
  },
  {
   "cell_type": "code",
   "execution_count": 8,
   "id": "beb8acfd",
   "metadata": {},
   "outputs": [
    {
     "data": {
      "text/plain": [
       "<sklearn.metrics._plot.confusion_matrix.ConfusionMatrixDisplay at 0x1c3071c2910>"
      ]
     },
     "execution_count": 8,
     "metadata": {},
     "output_type": "execute_result"
    },
    {
     "data": {
      "image/png": "[encoded data removed]",
      "text/plain": [
       "<Figure size 432x288 with 2 Axes>"
      ]
     },
     "metadata": {
      "needs_background": "light"
     },
     "output_type": "display_data"
    }
   ],
   "source": [
    "import numpy as np\n",
    "from sklearn.metrics import confusion_matrix, ConfusionMatrixDisplay\n",
    "\n",
    "confusion_matrix = np.array([[182416,      0],\n",
    "       [   101,  17483]])\n",
    "disp = ConfusionMatrixDisplay(confusion_matrix=confusion_matrix, display_labels=[\"Not Fraud\", \"Fraud\"])\n",
    "disp.plot()"
   ]
  },
  {
   "cell_type": "code",
   "execution_count": 4,
   "id": "54a58f8a",
   "metadata": {},
   "outputs": [
    {
     "name": "stdout",
     "output_type": "stream",
     "text": [
      "Accuracy: 0.999995\n"
     ]
    }
   ],
   "source": [
    "best_clf = RandomForestClassifier(n_estimators=15, max_depth=15)\n",
    "best_clf.fit(train_X, train_Y)\n",
    "pred_Y = best_clf.predict(test_X)\n",
    "print(\"Accuracy:\", accuracy_score(test_Y, pred_Y))\n",
    "confusion_matrix = confusion_matrix(test_Y, pred_Y)"
   ]
  },
  {
   "cell_type": "code",
   "execution_count": 7,
   "id": "d8e0040a",
   "metadata": {},
   "outputs": [
    {
     "data": {
      "text/plain": [
       "0.9999715642505758"
      ]
     },
     "execution_count": 7,
     "metadata": {},
     "output_type": "execute_result"
    }
   ],
   "source": [
    "\n",
    "f1_score(test_Y, pred_Y)"
   ]
  }
 ],
 "metadata": {
  "kernelspec": {
   "display_name": "Python 3 (ipykernel)",
   "language": "python",
   "name": "python3"
  },
  "language_info": {
   "codemirror_mode": {
    "name": "ipython",
    "version": 3
   },
   "file_extension": ".py",
   "mimetype": "text/x-python",
   "name": "python",
   "nbconvert_exporter": "python",
   "pygments_lexer": "ipython3",
   "version": "3.9.7"
  }
 },
 "nbformat": 4,
 "nbformat_minor": 5
}
