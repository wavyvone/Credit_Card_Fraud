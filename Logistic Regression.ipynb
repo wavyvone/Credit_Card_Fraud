{
 "cells": [
  {
   "cell_type": "code",
   "execution_count": 1,
   "metadata": {},
   "outputs": [],
   "source": [
    "import pandas as pd\n",
    "import numpy as np\n",
    "from sklearn import preprocessing\n",
    "from sklearn.model_selection import train_test_split\n",
    "from sklearn.linear_model import LogisticRegression\n",
    "from sklearn.metrics import accuracy_score, confusion_matrix, ConfusionMatrixDisplay, f1_score\n",
    "from imblearn.over_sampling import RandomOverSampler"
   ]
  },
  {
   "cell_type": "code",
   "execution_count": 2,
   "metadata": {},
   "outputs": [
    {
     "name": "stdout",
     "output_type": "stream",
     "text": [
      "(800000, 8)\n",
      "(200000, 8)\n"
     ]
    },
    {
     "data": {
      "text/html": [
       "<div>\n",
       "<style scoped>\n",
       "    .dataframe tbody tr th:only-of-type {\n",
       "        vertical-align: middle;\n",
       "    }\n",
       "\n",
       "    .dataframe tbody tr th {\n",
       "        vertical-align: top;\n",
       "    }\n",
       "\n",
       "    .dataframe thead th {\n",
       "        text-align: right;\n",
       "    }\n",
       "</style>\n",
       "<table border=\"1\" class=\"dataframe\">\n",
       "  <thead>\n",
       "    <tr style=\"text-align: right;\">\n",
       "      <th></th>\n",
       "      <th>distance_from_home</th>\n",
       "      <th>distance_from_last_transaction</th>\n",
       "      <th>ratio_to_median_purchase_price</th>\n",
       "      <th>repeat_retailer</th>\n",
       "      <th>used_chip</th>\n",
       "      <th>used_pin_number</th>\n",
       "      <th>online_order</th>\n",
       "      <th>fraud</th>\n",
       "    </tr>\n",
       "  </thead>\n",
       "  <tbody>\n",
       "    <tr>\n",
       "      <th>0</th>\n",
       "      <td>5.572427</td>\n",
       "      <td>4.850337</td>\n",
       "      <td>1.149870</td>\n",
       "      <td>1.0</td>\n",
       "      <td>0.0</td>\n",
       "      <td>0.0</td>\n",
       "      <td>0.0</td>\n",
       "      <td>0.0</td>\n",
       "    </tr>\n",
       "    <tr>\n",
       "      <th>1</th>\n",
       "      <td>5.327530</td>\n",
       "      <td>3.933291</td>\n",
       "      <td>1.682739</td>\n",
       "      <td>1.0</td>\n",
       "      <td>1.0</td>\n",
       "      <td>0.0</td>\n",
       "      <td>1.0</td>\n",
       "      <td>0.0</td>\n",
       "    </tr>\n",
       "    <tr>\n",
       "      <th>2</th>\n",
       "      <td>78.945633</td>\n",
       "      <td>0.023222</td>\n",
       "      <td>2.740935</td>\n",
       "      <td>1.0</td>\n",
       "      <td>1.0</td>\n",
       "      <td>0.0</td>\n",
       "      <td>1.0</td>\n",
       "      <td>0.0</td>\n",
       "    </tr>\n",
       "    <tr>\n",
       "      <th>3</th>\n",
       "      <td>10.119026</td>\n",
       "      <td>26.548445</td>\n",
       "      <td>1.945075</td>\n",
       "      <td>1.0</td>\n",
       "      <td>0.0</td>\n",
       "      <td>0.0</td>\n",
       "      <td>0.0</td>\n",
       "      <td>0.0</td>\n",
       "    </tr>\n",
       "    <tr>\n",
       "      <th>4</th>\n",
       "      <td>33.646388</td>\n",
       "      <td>1.909240</td>\n",
       "      <td>0.888281</td>\n",
       "      <td>1.0</td>\n",
       "      <td>0.0</td>\n",
       "      <td>0.0</td>\n",
       "      <td>0.0</td>\n",
       "      <td>0.0</td>\n",
       "    </tr>\n",
       "  </tbody>\n",
       "</table>\n",
       "</div>"
      ],
      "text/plain": [
       "   distance_from_home  distance_from_last_transaction  \\\n",
       "0            5.572427                        4.850337   \n",
       "1            5.327530                        3.933291   \n",
       "2           78.945633                        0.023222   \n",
       "3           10.119026                       26.548445   \n",
       "4           33.646388                        1.909240   \n",
       "\n",
       "   ratio_to_median_purchase_price  repeat_retailer  used_chip  \\\n",
       "0                        1.149870              1.0        0.0   \n",
       "1                        1.682739              1.0        1.0   \n",
       "2                        2.740935              1.0        1.0   \n",
       "3                        1.945075              1.0        0.0   \n",
       "4                        0.888281              1.0        0.0   \n",
       "\n",
       "   used_pin_number  online_order  fraud  \n",
       "0              0.0           0.0    0.0  \n",
       "1              0.0           1.0    0.0  \n",
       "2              0.0           1.0    0.0  \n",
       "3              0.0           0.0    0.0  \n",
       "4              0.0           0.0    0.0  "
      ]
     },
     "execution_count": 2,
     "metadata": {},
     "output_type": "execute_result"
    }
   ],
   "source": [
    "train_url = \"./Data/Train/train_data.csv\"\n",
    "test_url = \"./Data/Test/test_data.csv\"\n",
    "\n",
    "train_data = pd.read_csv(train_url)\n",
    "test_data = pd.read_csv(test_url)\n",
    "\n",
    "print(train_data.shape)\n",
    "print(test_data.shape)\n",
    "train_data.head()"
   ]
  },
  {
   "cell_type": "code",
   "execution_count": 3,
   "metadata": {
    "scrolled": true
   },
   "outputs": [
    {
     "name": "stdout",
     "output_type": "stream",
     "text": [
      "Train Data Shape (800000, 7) (800000,)\n",
      "0.0    730181\n",
      "1.0     69819\n",
      "Name: fraud, dtype: int64\n",
      "Test Data Shape (200000, 7) (200000,)\n",
      "0.0    182416\n",
      "1.0     17584\n",
      "Name: fraud, dtype: int64\n"
     ]
    },
    {
     "data": {
      "text/html": [
       "<div>\n",
       "<style scoped>\n",
       "    .dataframe tbody tr th:only-of-type {\n",
       "        vertical-align: middle;\n",
       "    }\n",
       "\n",
       "    .dataframe tbody tr th {\n",
       "        vertical-align: top;\n",
       "    }\n",
       "\n",
       "    .dataframe thead th {\n",
       "        text-align: right;\n",
       "    }\n",
       "</style>\n",
       "<table border=\"1\" class=\"dataframe\">\n",
       "  <thead>\n",
       "    <tr style=\"text-align: right;\">\n",
       "      <th></th>\n",
       "      <th>distance_from_home</th>\n",
       "      <th>distance_from_last_transaction</th>\n",
       "      <th>ratio_to_median_purchase_price</th>\n",
       "      <th>repeat_retailer</th>\n",
       "      <th>used_chip</th>\n",
       "      <th>used_pin_number</th>\n",
       "      <th>online_order</th>\n",
       "    </tr>\n",
       "  </thead>\n",
       "  <tbody>\n",
       "    <tr>\n",
       "      <th>0</th>\n",
       "      <td>5.572427</td>\n",
       "      <td>4.850337</td>\n",
       "      <td>1.149870</td>\n",
       "      <td>1.0</td>\n",
       "      <td>0.0</td>\n",
       "      <td>0.0</td>\n",
       "      <td>0.0</td>\n",
       "    </tr>\n",
       "    <tr>\n",
       "      <th>1</th>\n",
       "      <td>5.327530</td>\n",
       "      <td>3.933291</td>\n",
       "      <td>1.682739</td>\n",
       "      <td>1.0</td>\n",
       "      <td>1.0</td>\n",
       "      <td>0.0</td>\n",
       "      <td>1.0</td>\n",
       "    </tr>\n",
       "    <tr>\n",
       "      <th>2</th>\n",
       "      <td>78.945633</td>\n",
       "      <td>0.023222</td>\n",
       "      <td>2.740935</td>\n",
       "      <td>1.0</td>\n",
       "      <td>1.0</td>\n",
       "      <td>0.0</td>\n",
       "      <td>1.0</td>\n",
       "    </tr>\n",
       "    <tr>\n",
       "      <th>3</th>\n",
       "      <td>10.119026</td>\n",
       "      <td>26.548445</td>\n",
       "      <td>1.945075</td>\n",
       "      <td>1.0</td>\n",
       "      <td>0.0</td>\n",
       "      <td>0.0</td>\n",
       "      <td>0.0</td>\n",
       "    </tr>\n",
       "    <tr>\n",
       "      <th>4</th>\n",
       "      <td>33.646388</td>\n",
       "      <td>1.909240</td>\n",
       "      <td>0.888281</td>\n",
       "      <td>1.0</td>\n",
       "      <td>0.0</td>\n",
       "      <td>0.0</td>\n",
       "      <td>0.0</td>\n",
       "    </tr>\n",
       "  </tbody>\n",
       "</table>\n",
       "</div>"
      ],
      "text/plain": [
       "   distance_from_home  distance_from_last_transaction  \\\n",
       "0            5.572427                        4.850337   \n",
       "1            5.327530                        3.933291   \n",
       "2           78.945633                        0.023222   \n",
       "3           10.119026                       26.548445   \n",
       "4           33.646388                        1.909240   \n",
       "\n",
       "   ratio_to_median_purchase_price  repeat_retailer  used_chip  \\\n",
       "0                        1.149870              1.0        0.0   \n",
       "1                        1.682739              1.0        1.0   \n",
       "2                        2.740935              1.0        1.0   \n",
       "3                        1.945075              1.0        0.0   \n",
       "4                        0.888281              1.0        0.0   \n",
       "\n",
       "   used_pin_number  online_order  \n",
       "0              0.0           0.0  \n",
       "1              0.0           1.0  \n",
       "2              0.0           1.0  \n",
       "3              0.0           0.0  \n",
       "4              0.0           0.0  "
      ]
     },
     "execution_count": 3,
     "metadata": {},
     "output_type": "execute_result"
    }
   ],
   "source": [
    "train_X, train_Y = train_data.drop(\"fraud\", axis=1), train_data[\"fraud\"]\n",
    "test_X, test_Y = test_data.drop(\"fraud\", axis=1), test_data[\"fraud\"]\n",
    "print(\"Train Data Shape\", train_X.shape, train_Y.shape)\n",
    "print(train_Y.value_counts())\n",
    "print(\"Test Data Shape\", test_X.shape, test_Y.shape)\n",
    "print(test_Y.value_counts())\n",
    "train_X.head()"
   ]
  },
  {
   "cell_type": "code",
   "execution_count": 4,
   "metadata": {},
   "outputs": [],
   "source": [
    "#To put results into table\n",
    "score = dict()\n",
    "score[\"Scaling\"] = []\n",
    "score[\"Resampling\"] = []\n",
    "score[\"class_weight\"] = []\n",
    "score[\"F1\"] = []\n",
    "score[\"Accuracy\"] = []"
   ]
  },
  {
   "cell_type": "markdown",
   "metadata": {},
   "source": [
    "## Logistic Regression "
   ]
  },
  {
   "cell_type": "markdown",
   "metadata": {},
   "source": [
    "### Model 0: Naive Logistic Regression"
   ]
  },
  {
   "cell_type": "code",
   "execution_count": 5,
   "metadata": {},
   "outputs": [
    {
     "data": {
      "text/plain": [
       "LogisticRegression(random_state=0, solver='liblinear')"
      ]
     },
     "execution_count": 5,
     "metadata": {},
     "output_type": "execute_result"
    }
   ],
   "source": [
    "#train model with training data\n",
    "model = LogisticRegression(solver='liblinear', random_state=0)\n",
    "model.fit(train_X, train_Y)"
   ]
  },
  {
   "cell_type": "code",
   "execution_count": 6,
   "metadata": {},
   "outputs": [],
   "source": [
    "#Get prediction \n",
    "predict_Y = model.predict(test_X)"
   ]
  },
  {
   "cell_type": "code",
   "execution_count": 7,
   "metadata": {},
   "outputs": [
    {
     "name": "stdout",
     "output_type": "stream",
     "text": [
      "0.95825\n"
     ]
    }
   ],
   "source": [
    "#Get accuracy\n",
    "acc = accuracy_score(test_Y, predict_Y)\n",
    "print(acc)"
   ]
  },
  {
   "cell_type": "code",
   "execution_count": 8,
   "metadata": {},
   "outputs": [
    {
     "data": {
      "text/plain": [
       "<sklearn.metrics._plot.confusion_matrix.ConfusionMatrixDisplay at 0x7fb492f6b1f0>"
      ]
     },
     "execution_count": 8,
     "metadata": {},
     "output_type": "execute_result"
    },
    {
     "data": {
      "image/png": "[encoded data removed]",
      "text/plain": [
       "<Figure size 432x288 with 2 Axes>"
      ]
     },
     "metadata": {
      "needs_background": "light"
     },
     "output_type": "display_data"
    }
   ],
   "source": [
    "c_matrix = confusion_matrix(test_Y, predict_Y)\n",
    "disp = ConfusionMatrixDisplay(confusion_matrix=c_matrix, display_labels=[\"Not Fraud\", \"Fraud\"])\n",
    "disp.plot()"
   ]
  },
  {
   "cell_type": "code",
   "execution_count": 9,
   "metadata": {},
   "outputs": [
    {
     "name": "stdout",
     "output_type": "stream",
     "text": [
      "0.7144908705463995\n"
     ]
    }
   ],
   "source": [
    "#print precision and recall\n",
    "f1 = f1_score(test_Y, predict_Y)\n",
    "print(f1)"
   ]
  },
  {
   "cell_type": "code",
   "execution_count": 10,
   "metadata": {},
   "outputs": [],
   "source": [
    "#Add to table\n",
    "score[\"Scaling\"].append(\"None\")\n",
    "score[\"Resampling\"].append(\"None\")\n",
    "score[\"class_weight\"].append(\"None\")\n",
    "score[\"F1\"].append(f1)\n",
    "score[\"Accuracy\"].append(acc)"
   ]
  },
  {
   "cell_type": "markdown",
   "metadata": {},
   "source": [
    "### Model 1: Standard Scaling"
   ]
  },
  {
   "cell_type": "code",
   "execution_count": 11,
   "metadata": {},
   "outputs": [],
   "source": [
    "scaler = preprocessing.StandardScaler().fit(train_X)\n",
    "train_X_scaled = scaler.transform(train_X)\n",
    "\n",
    "scaler = preprocessing.StandardScaler().fit(test_X)\n",
    "test_X_scaled = scaler.transform(test_X)"
   ]
  },
  {
   "cell_type": "code",
   "execution_count": 12,
   "metadata": {},
   "outputs": [
    {
     "data": {
      "text/plain": [
       "LogisticRegression(random_state=0, solver='liblinear')"
      ]
     },
     "execution_count": 12,
     "metadata": {},
     "output_type": "execute_result"
    }
   ],
   "source": [
    "#train model with training data\n",
    "model = LogisticRegression(solver='liblinear', random_state=0)\n",
    "model.fit(train_X_scaled, train_Y)"
   ]
  },
  {
   "cell_type": "code",
   "execution_count": 13,
   "metadata": {},
   "outputs": [],
   "source": [
    "#Get prediction \n",
    "predict_Y = model.predict(test_X_scaled)"
   ]
  },
  {
   "cell_type": "code",
   "execution_count": 14,
   "metadata": {},
   "outputs": [
    {
     "name": "stdout",
     "output_type": "stream",
     "text": [
      "0.95847\n"
     ]
    }
   ],
   "source": [
    "#Get accuracy\n",
    "acc = accuracy_score(test_Y, predict_Y)\n",
    "print(acc)"
   ]
  },
  {
   "cell_type": "code",
   "execution_count": 15,
   "metadata": {},
   "outputs": [
    {
     "data": {
      "text/plain": [
       "<sklearn.metrics._plot.confusion_matrix.ConfusionMatrixDisplay at 0x7fb47ef5a640>"
      ]
     },
     "execution_count": 15,
     "metadata": {},
     "output_type": "execute_result"
    },
    {
     "data": {
      "image/png": "[encoded data removed]",
      "text/plain": [
       "<Figure size 432x288 with 2 Axes>"
      ]
     },
     "metadata": {
      "needs_background": "light"
     },
     "output_type": "display_data"
    }
   ],
   "source": [
    "c_matrix = confusion_matrix(test_Y, predict_Y)\n",
    "disp = ConfusionMatrixDisplay(confusion_matrix=c_matrix, display_labels=[\"Not Fraud\", \"Fraud\"])\n",
    "disp.plot()"
   ]
  },
  {
   "cell_type": "code",
   "execution_count": 16,
   "metadata": {
    "scrolled": false
   },
   "outputs": [
    {
     "name": "stdout",
     "output_type": "stream",
     "text": [
      "0.7156258559298821\n"
     ]
    }
   ],
   "source": [
    "f1 = f1_score(test_Y, predict_Y)\n",
    "print(f1)"
   ]
  },
  {
   "cell_type": "code",
   "execution_count": 17,
   "metadata": {},
   "outputs": [],
   "source": [
    "#Add to table\n",
    "score[\"Scaling\"].append(\"Standard\")\n",
    "score[\"Resampling\"].append(\"None\")\n",
    "score[\"class_weight\"].append(\"None\")\n",
    "score[\"F1\"].append(f1)\n",
    "score[\"Accuracy\"].append(acc)"
   ]
  },
  {
   "cell_type": "markdown",
   "metadata": {},
   "source": [
    "### Model 2: Min-Max Scaling"
   ]
  },
  {
   "cell_type": "code",
   "execution_count": 18,
   "metadata": {},
   "outputs": [],
   "source": [
    "#Normalize each feature/column\n",
    "for i in range(train_X.shape[1]):\n",
    "    train_X_scaled[:,i] = (train_X.iloc[:,i] - min(train_X.iloc[:,i]))/(max(train_X.iloc[:,i])-min(train_X.iloc[:,i]))\n",
    "\n",
    "for i in range(test_X.shape[1]):\n",
    "    test_X_scaled[:,i] = (test_X.iloc[:,i] - min(test_X.iloc[:,i]))/(max(test_X.iloc[:,i])-min(test_X.iloc[:,i]))\n"
   ]
  },
  {
   "cell_type": "code",
   "execution_count": 19,
   "metadata": {},
   "outputs": [
    {
     "data": {
      "text/plain": [
       "LogisticRegression(random_state=0, solver='liblinear')"
      ]
     },
     "execution_count": 19,
     "metadata": {},
     "output_type": "execute_result"
    }
   ],
   "source": [
    "#train model with training data\n",
    "model = LogisticRegression(solver='liblinear', random_state=0)\n",
    "model.fit(train_X_scaled, train_Y)"
   ]
  },
  {
   "cell_type": "code",
   "execution_count": 20,
   "metadata": {},
   "outputs": [],
   "source": [
    "#Get prediction \n",
    "predict_Y = model.predict(test_X_scaled)"
   ]
  },
  {
   "cell_type": "code",
   "execution_count": 21,
   "metadata": {},
   "outputs": [
    {
     "name": "stdout",
     "output_type": "stream",
     "text": [
      "0.920835\n"
     ]
    }
   ],
   "source": [
    "#Get accuracy\n",
    "acc = accuracy_score(test_Y, predict_Y)\n",
    "print(acc)"
   ]
  },
  {
   "cell_type": "code",
   "execution_count": 22,
   "metadata": {},
   "outputs": [
    {
     "data": {
      "text/plain": [
       "<sklearn.metrics._plot.confusion_matrix.ConfusionMatrixDisplay at 0x7fb471b81160>"
      ]
     },
     "execution_count": 22,
     "metadata": {},
     "output_type": "execute_result"
    },
    {
     "data": {
      "image/png": "[encoded data removed]",
      "text/plain": [
       "<Figure size 432x288 with 2 Axes>"
      ]
     },
     "metadata": {
      "needs_background": "light"
     },
     "output_type": "display_data"
    }
   ],
   "source": [
    "c_matrix = confusion_matrix(test_Y, predict_Y)\n",
    "disp = ConfusionMatrixDisplay(confusion_matrix=c_matrix, display_labels=[\"Not Fraud\", \"Fraud\"])\n",
    "disp.plot()"
   ]
  },
  {
   "cell_type": "code",
   "execution_count": 23,
   "metadata": {
    "scrolled": true
   },
   "outputs": [
    {
     "name": "stdout",
     "output_type": "stream",
     "text": [
      "0.6377799638534921\n"
     ]
    }
   ],
   "source": [
    "f1 = f1_score(test_Y, predict_Y)\n",
    "print(f1)"
   ]
  },
  {
   "cell_type": "code",
   "execution_count": 24,
   "metadata": {},
   "outputs": [],
   "source": [
    "#Add to table\n",
    "score[\"Scaling\"].append(\"Min-Max\")\n",
    "score[\"Resampling\"].append(\"None\")\n",
    "score[\"class_weight\"].append(\"None\")\n",
    "score[\"F1\"].append(f1)\n",
    "score[\"Accuracy\"].append(acc)"
   ]
  },
  {
   "cell_type": "markdown",
   "metadata": {},
   "source": [
    "### Model 3: Accounting for class imbalance"
   ]
  },
  {
   "cell_type": "code",
   "execution_count": 25,
   "metadata": {},
   "outputs": [
    {
     "data": {
      "text/plain": [
       "LogisticRegression(class_weight='balanced', random_state=0, solver='liblinear')"
      ]
     },
     "execution_count": 25,
     "metadata": {},
     "output_type": "execute_result"
    }
   ],
   "source": [
    "#train model with training data\n",
    "model = LogisticRegression(solver='liblinear', random_state=0, class_weight='balanced')\n",
    "model.fit(train_X, train_Y)"
   ]
  },
  {
   "cell_type": "code",
   "execution_count": 26,
   "metadata": {},
   "outputs": [],
   "source": [
    "#Get prediction \n",
    "predict_Y = model.predict(test_X)"
   ]
  },
  {
   "cell_type": "code",
   "execution_count": 27,
   "metadata": {},
   "outputs": [
    {
     "name": "stdout",
     "output_type": "stream",
     "text": [
      "0.934535\n"
     ]
    }
   ],
   "source": [
    "#Get accuracy\n",
    "acc = accuracy_score(test_Y, predict_Y)\n",
    "print(acc)"
   ]
  },
  {
   "cell_type": "code",
   "execution_count": 28,
   "metadata": {},
   "outputs": [
    {
     "data": {
      "text/plain": [
       "<sklearn.metrics._plot.confusion_matrix.ConfusionMatrixDisplay at 0x7fb471bbc9a0>"
      ]
     },
     "execution_count": 28,
     "metadata": {},
     "output_type": "execute_result"
    },
    {
     "data": {
      "image/png": "[encoded data removed]",
      "text/plain": [
       "<Figure size 432x288 with 2 Axes>"
      ]
     },
     "metadata": {
      "needs_background": "light"
     },
     "output_type": "display_data"
    }
   ],
   "source": [
    "c_matrix = confusion_matrix(test_Y, predict_Y)\n",
    "disp = ConfusionMatrixDisplay(confusion_matrix=c_matrix, display_labels=[\"Not Fraud\", \"Fraud\"])\n",
    "disp.plot()"
   ]
  },
  {
   "cell_type": "code",
   "execution_count": 29,
   "metadata": {},
   "outputs": [
    {
     "name": "stdout",
     "output_type": "stream",
     "text": [
      "0.7179023118522827\n"
     ]
    }
   ],
   "source": [
    "f1 = f1_score(test_Y, predict_Y)\n",
    "print(f1)"
   ]
  },
  {
   "cell_type": "code",
   "execution_count": 30,
   "metadata": {},
   "outputs": [],
   "source": [
    "#Add to table\n",
    "score[\"Scaling\"].append(\"None\")\n",
    "score[\"Resampling\"].append(\"None\")\n",
    "score[\"class_weight\"].append(\"Balanced\")\n",
    "score[\"F1\"].append(f1)\n",
    "score[\"Accuracy\"].append(acc)"
   ]
  },
  {
   "cell_type": "markdown",
   "metadata": {},
   "source": [
    "### Model 4: Accounting for class imbalance + Standard scaling"
   ]
  },
  {
   "cell_type": "code",
   "execution_count": 31,
   "metadata": {},
   "outputs": [],
   "source": [
    "scaler = preprocessing.StandardScaler().fit(train_X)\n",
    "train_X_scaled = scaler.transform(train_X)\n",
    "\n",
    "scaler = preprocessing.StandardScaler().fit(test_X)\n",
    "test_X_scaled = scaler.transform(test_X)"
   ]
  },
  {
   "cell_type": "code",
   "execution_count": 32,
   "metadata": {},
   "outputs": [
    {
     "data": {
      "text/plain": [
       "LogisticRegression(class_weight='balanced', random_state=0, solver='liblinear')"
      ]
     },
     "execution_count": 32,
     "metadata": {},
     "output_type": "execute_result"
    }
   ],
   "source": [
    "#train model with training data\n",
    "model = LogisticRegression(solver='liblinear', random_state=0, class_weight='balanced')\n",
    "model.fit(train_X_scaled, train_Y)"
   ]
  },
  {
   "cell_type": "code",
   "execution_count": 33,
   "metadata": {},
   "outputs": [],
   "source": [
    "#Get prediction \n",
    "predict_Y = model.predict(test_X_scaled)"
   ]
  },
  {
   "cell_type": "code",
   "execution_count": 34,
   "metadata": {},
   "outputs": [
    {
     "name": "stdout",
     "output_type": "stream",
     "text": [
      "0.93336\n"
     ]
    }
   ],
   "source": [
    "#Get accuracy\n",
    "acc = accuracy_score(test_Y, predict_Y)\n",
    "print(acc)"
   ]
  },
  {
   "cell_type": "code",
   "execution_count": 35,
   "metadata": {},
   "outputs": [
    {
     "data": {
      "text/plain": [
       "<sklearn.metrics._plot.confusion_matrix.ConfusionMatrixDisplay at 0x7fb46ae78fa0>"
      ]
     },
     "execution_count": 35,
     "metadata": {},
     "output_type": "execute_result"
    },
    {
     "data": {
      "image/png": "[encoded data removed]",
      "text/plain": [
       "<Figure size 432x288 with 2 Axes>"
      ]
     },
     "metadata": {
      "needs_background": "light"
     },
     "output_type": "display_data"
    }
   ],
   "source": [
    "c_matrix = confusion_matrix(test_Y, predict_Y)\n",
    "disp = ConfusionMatrixDisplay(confusion_matrix=c_matrix, display_labels=[\"Not Fraud\", \"Fraud\"])\n",
    "disp.plot()"
   ]
  },
  {
   "cell_type": "code",
   "execution_count": 36,
   "metadata": {},
   "outputs": [
    {
     "name": "stdout",
     "output_type": "stream",
     "text": [
      "0.7127586206896553\n"
     ]
    }
   ],
   "source": [
    "f1 = f1_score(test_Y, predict_Y)\n",
    "print(f1)"
   ]
  },
  {
   "cell_type": "code",
   "execution_count": 37,
   "metadata": {},
   "outputs": [],
   "source": [
    "#Add to table\n",
    "score[\"Scaling\"].append(\"Standard\")\n",
    "score[\"Resampling\"].append(\"None\")\n",
    "score[\"class_weight\"].append(\"Balanced\")\n",
    "score[\"F1\"].append(f1)\n",
    "score[\"Accuracy\"].append(acc)"
   ]
  },
  {
   "cell_type": "markdown",
   "metadata": {},
   "source": [
    "### Model 5: Accounting for class imbalance + Min-Max scaling"
   ]
  },
  {
   "cell_type": "code",
   "execution_count": 38,
   "metadata": {},
   "outputs": [],
   "source": [
    "#Normalize each feature/column\n",
    "for i in range(train_X.shape[1]):\n",
    "    train_X_scaled[:,i] = (train_X.iloc[:,i] - min(train_X.iloc[:,i]))/(max(train_X.iloc[:,i])-min(train_X.iloc[:,i]))\n",
    "\n",
    "for i in range(test_X.shape[1]):\n",
    "    test_X_scaled[:,i] = (test_X.iloc[:,i] - min(test_X.iloc[:,i]))/(max(test_X.iloc[:,i])-min(test_X.iloc[:,i]))"
   ]
  },
  {
   "cell_type": "code",
   "execution_count": 39,
   "metadata": {},
   "outputs": [
    {
     "data": {
      "text/plain": [
       "LogisticRegression(class_weight='balanced', random_state=0, solver='liblinear')"
      ]
     },
     "execution_count": 39,
     "metadata": {},
     "output_type": "execute_result"
    }
   ],
   "source": [
    "#train model with training data\n",
    "model = LogisticRegression(solver='liblinear', random_state=0, class_weight='balanced')\n",
    "model.fit(train_X_scaled, train_Y)"
   ]
  },
  {
   "cell_type": "code",
   "execution_count": 40,
   "metadata": {},
   "outputs": [],
   "source": [
    "#Get prediction \n",
    "predict_Y = model.predict(test_X_scaled)"
   ]
  },
  {
   "cell_type": "code",
   "execution_count": 41,
   "metadata": {},
   "outputs": [
    {
     "name": "stdout",
     "output_type": "stream",
     "text": [
      "0.762925\n"
     ]
    }
   ],
   "source": [
    "#Get accuracy\n",
    "acc = accuracy_score(test_Y, predict_Y)\n",
    "print(acc)"
   ]
  },
  {
   "cell_type": "code",
   "execution_count": 42,
   "metadata": {},
   "outputs": [
    {
     "data": {
      "text/plain": [
       "<sklearn.metrics._plot.confusion_matrix.ConfusionMatrixDisplay at 0x7fb46b61b7c0>"
      ]
     },
     "execution_count": 42,
     "metadata": {},
     "output_type": "execute_result"
    },
    {
     "data": {
      "image/png": "[encoded data removed]",
      "text/plain": [
       "<Figure size 432x288 with 2 Axes>"
      ]
     },
     "metadata": {
      "needs_background": "light"
     },
     "output_type": "display_data"
    }
   ],
   "source": [
    "c_matrix = confusion_matrix(test_Y, predict_Y)\n",
    "disp = ConfusionMatrixDisplay(confusion_matrix=c_matrix, display_labels=[\"Not Fraud\", \"Fraud\"])\n",
    "disp.plot()"
   ]
  },
  {
   "cell_type": "code",
   "execution_count": 43,
   "metadata": {},
   "outputs": [
    {
     "name": "stdout",
     "output_type": "stream",
     "text": [
      "0.4163804881651342\n"
     ]
    }
   ],
   "source": [
    "f1 = f1_score(test_Y, predict_Y)\n",
    "print(f1)"
   ]
  },
  {
   "cell_type": "code",
   "execution_count": 44,
   "metadata": {},
   "outputs": [],
   "source": [
    "#Add to table\n",
    "score[\"Scaling\"].append(\"Min-Max\")\n",
    "score[\"Resampling\"].append(\"None\")\n",
    "score[\"class_weight\"].append(\"Balanced\")\n",
    "score[\"F1\"].append(f1)\n",
    "score[\"Accuracy\"].append(acc)"
   ]
  },
  {
   "cell_type": "markdown",
   "metadata": {},
   "source": [
    "### Model 6: Random Oversampling"
   ]
  },
  {
   "cell_type": "code",
   "execution_count": 45,
   "metadata": {},
   "outputs": [],
   "source": [
    "#random oversampling\n",
    "rand = RandomOverSampler(random_state=2023, sampling_strategy='minority')\n",
    "X_train_rand, y_train_rand = rand.fit_resample(train_X, train_Y)"
   ]
  },
  {
   "cell_type": "code",
   "execution_count": 46,
   "metadata": {},
   "outputs": [
    {
     "data": {
      "text/plain": [
       "LogisticRegression(random_state=0, solver='liblinear')"
      ]
     },
     "execution_count": 46,
     "metadata": {},
     "output_type": "execute_result"
    }
   ],
   "source": [
    "#train model with training data\n",
    "model = LogisticRegression(solver='liblinear', random_state=0)\n",
    "model.fit(X_train_rand, y_train_rand)"
   ]
  },
  {
   "cell_type": "code",
   "execution_count": 47,
   "metadata": {},
   "outputs": [],
   "source": [
    "#Get prediction \n",
    "predict_Y = model.predict(test_X)"
   ]
  },
  {
   "cell_type": "code",
   "execution_count": 48,
   "metadata": {},
   "outputs": [
    {
     "name": "stdout",
     "output_type": "stream",
     "text": [
      "0.93457\n"
     ]
    }
   ],
   "source": [
    "#Get accuracy\n",
    "acc = accuracy_score(test_Y, predict_Y)\n",
    "print(acc)"
   ]
  },
  {
   "cell_type": "code",
   "execution_count": 49,
   "metadata": {},
   "outputs": [
    {
     "data": {
      "text/plain": [
       "<sklearn.metrics._plot.confusion_matrix.ConfusionMatrixDisplay at 0x7fb46ab0a580>"
      ]
     },
     "execution_count": 49,
     "metadata": {},
     "output_type": "execute_result"
    },
    {
     "data": {
      "image/png": "[encoded data removed]",
      "text/plain": [
       "<Figure size 432x288 with 2 Axes>"
      ]
     },
     "metadata": {
      "needs_background": "light"
     },
     "output_type": "display_data"
    }
   ],
   "source": [
    "c_matrix = confusion_matrix(test_Y, predict_Y)\n",
    "disp = ConfusionMatrixDisplay(confusion_matrix=c_matrix, display_labels=[\"Not Fraud\", \"Fraud\"])\n",
    "disp.plot()"
   ]
  },
  {
   "cell_type": "code",
   "execution_count": 50,
   "metadata": {
    "scrolled": true
   },
   "outputs": [
    {
     "name": "stdout",
     "output_type": "stream",
     "text": [
      "0.7179862936942373\n"
     ]
    }
   ],
   "source": [
    "#print precision and recall\n",
    "f1 = f1_score(test_Y, predict_Y)\n",
    "print(f1)"
   ]
  },
  {
   "cell_type": "code",
   "execution_count": 51,
   "metadata": {},
   "outputs": [],
   "source": [
    "#Add to table\n",
    "score[\"Scaling\"].append(\"None\")\n",
    "score[\"Resampling\"].append(\"Random\")\n",
    "score[\"class_weight\"].append(\"None\")\n",
    "score[\"F1\"].append(f1)\n",
    "score[\"Accuracy\"].append(acc)"
   ]
  },
  {
   "cell_type": "markdown",
   "metadata": {},
   "source": [
    "## Results"
   ]
  },
  {
   "cell_type": "code",
   "execution_count": 52,
   "metadata": {
    "scrolled": true
   },
   "outputs": [
    {
     "data": {
      "text/html": [
       "<div>\n",
       "<style scoped>\n",
       "    .dataframe tbody tr th:only-of-type {\n",
       "        vertical-align: middle;\n",
       "    }\n",
       "\n",
       "    .dataframe tbody tr th {\n",
       "        vertical-align: top;\n",
       "    }\n",
       "\n",
       "    .dataframe thead th {\n",
       "        text-align: right;\n",
       "    }\n",
       "</style>\n",
       "<table border=\"1\" class=\"dataframe\">\n",
       "  <thead>\n",
       "    <tr style=\"text-align: right;\">\n",
       "      <th></th>\n",
       "      <th>Scaling</th>\n",
       "      <th>Resampling</th>\n",
       "      <th>class_weight</th>\n",
       "      <th>F1</th>\n",
       "      <th>Accuracy</th>\n",
       "    </tr>\n",
       "  </thead>\n",
       "  <tbody>\n",
       "    <tr>\n",
       "      <th>0</th>\n",
       "      <td>None</td>\n",
       "      <td>None</td>\n",
       "      <td>None</td>\n",
       "      <td>0.714491</td>\n",
       "      <td>0.958250</td>\n",
       "    </tr>\n",
       "    <tr>\n",
       "      <th>1</th>\n",
       "      <td>Standard</td>\n",
       "      <td>None</td>\n",
       "      <td>None</td>\n",
       "      <td>0.715626</td>\n",
       "      <td>0.958470</td>\n",
       "    </tr>\n",
       "    <tr>\n",
       "      <th>2</th>\n",
       "      <td>Min-Max</td>\n",
       "      <td>None</td>\n",
       "      <td>None</td>\n",
       "      <td>0.637780</td>\n",
       "      <td>0.920835</td>\n",
       "    </tr>\n",
       "    <tr>\n",
       "      <th>3</th>\n",
       "      <td>None</td>\n",
       "      <td>None</td>\n",
       "      <td>Balanced</td>\n",
       "      <td>0.717902</td>\n",
       "      <td>0.934535</td>\n",
       "    </tr>\n",
       "    <tr>\n",
       "      <th>4</th>\n",
       "      <td>Standard</td>\n",
       "      <td>None</td>\n",
       "      <td>Balanced</td>\n",
       "      <td>0.712759</td>\n",
       "      <td>0.933360</td>\n",
       "    </tr>\n",
       "    <tr>\n",
       "      <th>5</th>\n",
       "      <td>Min-Max</td>\n",
       "      <td>None</td>\n",
       "      <td>Balanced</td>\n",
       "      <td>0.416380</td>\n",
       "      <td>0.762925</td>\n",
       "    </tr>\n",
       "    <tr>\n",
       "      <th>6</th>\n",
       "      <td>None</td>\n",
       "      <td>Random</td>\n",
       "      <td>None</td>\n",
       "      <td>0.717986</td>\n",
       "      <td>0.934570</td>\n",
       "    </tr>\n",
       "  </tbody>\n",
       "</table>\n",
       "</div>"
      ],
      "text/plain": [
       "    Scaling Resampling class_weight        F1  Accuracy\n",
       "0      None       None         None  0.714491  0.958250\n",
       "1  Standard       None         None  0.715626  0.958470\n",
       "2   Min-Max       None         None  0.637780  0.920835\n",
       "3      None       None     Balanced  0.717902  0.934535\n",
       "4  Standard       None     Balanced  0.712759  0.933360\n",
       "5   Min-Max       None     Balanced  0.416380  0.762925\n",
       "6      None     Random         None  0.717986  0.934570"
      ]
     },
     "execution_count": 52,
     "metadata": {},
     "output_type": "execute_result"
    }
   ],
   "source": [
    "pd.DataFrame.from_dict(score)"
   ]
  }
 ],
 "metadata": {
  "kernelspec": {
   "display_name": "Python 3",
   "language": "python",
   "name": "python3"
  },
  "language_info": {
   "codemirror_mode": {
    "name": "ipython",
    "version": 3
   },
   "file_extension": ".py",
   "mimetype": "text/x-python",
   "name": "python",
   "nbconvert_exporter": "python",
   "pygments_lexer": "ipython3",
   "version": "3.8.5"
  }
 },
 "nbformat": 4,
 "nbformat_minor": 4
}
