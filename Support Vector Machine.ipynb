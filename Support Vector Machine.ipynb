{
 "cells": [
  {
   "cell_type": "code",
   "execution_count": 1,
   "id": "1587e8cf",
   "metadata": {},
   "outputs": [],
   "source": [
    "import pandas as pd\n",
    "from sklearn import svm, datasets\n",
    "from sklearn.svm import SVC\n",
    "from sklearn.metrics import accuracy_score, confusion_matrix, classification_report, ConfusionMatrixDisplay, f1_score\n",
    "from sklearn.multiclass import OneVsRestClassifier"
   ]
  },
  {
   "cell_type": "code",
   "execution_count": 2,
   "id": "8acd7d7e",
   "metadata": {},
   "outputs": [
    {
     "name": "stdout",
     "output_type": "stream",
     "text": [
      "(800000, 8)\n",
      "(200000, 8)\n"
     ]
    },
    {
     "data": {
      "text/html": [
       "<div>\n",
       "<style scoped>\n",
       "    .dataframe tbody tr th:only-of-type {\n",
       "        vertical-align: middle;\n",
       "    }\n",
       "\n",
       "    .dataframe tbody tr th {\n",
       "        vertical-align: top;\n",
       "    }\n",
       "\n",
       "    .dataframe thead th {\n",
       "        text-align: right;\n",
       "    }\n",
       "</style>\n",
       "<table border=\"1\" class=\"dataframe\">\n",
       "  <thead>\n",
       "    <tr style=\"text-align: right;\">\n",
       "      <th></th>\n",
       "      <th>distance_from_home</th>\n",
       "      <th>distance_from_last_transaction</th>\n",
       "      <th>ratio_to_median_purchase_price</th>\n",
       "      <th>repeat_retailer</th>\n",
       "      <th>used_chip</th>\n",
       "      <th>used_pin_number</th>\n",
       "      <th>online_order</th>\n",
       "      <th>fraud</th>\n",
       "    </tr>\n",
       "  </thead>\n",
       "  <tbody>\n",
       "    <tr>\n",
       "      <th>0</th>\n",
       "      <td>5.572427</td>\n",
       "      <td>4.850337</td>\n",
       "      <td>1.149870</td>\n",
       "      <td>1.0</td>\n",
       "      <td>0.0</td>\n",
       "      <td>0.0</td>\n",
       "      <td>0.0</td>\n",
       "      <td>0.0</td>\n",
       "    </tr>\n",
       "    <tr>\n",
       "      <th>1</th>\n",
       "      <td>5.327530</td>\n",
       "      <td>3.933291</td>\n",
       "      <td>1.682739</td>\n",
       "      <td>1.0</td>\n",
       "      <td>1.0</td>\n",
       "      <td>0.0</td>\n",
       "      <td>1.0</td>\n",
       "      <td>0.0</td>\n",
       "    </tr>\n",
       "    <tr>\n",
       "      <th>2</th>\n",
       "      <td>78.945633</td>\n",
       "      <td>0.023222</td>\n",
       "      <td>2.740935</td>\n",
       "      <td>1.0</td>\n",
       "      <td>1.0</td>\n",
       "      <td>0.0</td>\n",
       "      <td>1.0</td>\n",
       "      <td>0.0</td>\n",
       "    </tr>\n",
       "    <tr>\n",
       "      <th>3</th>\n",
       "      <td>10.119026</td>\n",
       "      <td>26.548445</td>\n",
       "      <td>1.945075</td>\n",
       "      <td>1.0</td>\n",
       "      <td>0.0</td>\n",
       "      <td>0.0</td>\n",
       "      <td>0.0</td>\n",
       "      <td>0.0</td>\n",
       "    </tr>\n",
       "    <tr>\n",
       "      <th>4</th>\n",
       "      <td>33.646388</td>\n",
       "      <td>1.909240</td>\n",
       "      <td>0.888281</td>\n",
       "      <td>1.0</td>\n",
       "      <td>0.0</td>\n",
       "      <td>0.0</td>\n",
       "      <td>0.0</td>\n",
       "      <td>0.0</td>\n",
       "    </tr>\n",
       "  </tbody>\n",
       "</table>\n",
       "</div>"
      ],
      "text/plain": [
       "   distance_from_home  distance_from_last_transaction  \\\n",
       "0            5.572427                        4.850337   \n",
       "1            5.327530                        3.933291   \n",
       "2           78.945633                        0.023222   \n",
       "3           10.119026                       26.548445   \n",
       "4           33.646388                        1.909240   \n",
       "\n",
       "   ratio_to_median_purchase_price  repeat_retailer  used_chip  \\\n",
       "0                        1.149870              1.0        0.0   \n",
       "1                        1.682739              1.0        1.0   \n",
       "2                        2.740935              1.0        1.0   \n",
       "3                        1.945075              1.0        0.0   \n",
       "4                        0.888281              1.0        0.0   \n",
       "\n",
       "   used_pin_number  online_order  fraud  \n",
       "0              0.0           0.0    0.0  \n",
       "1              0.0           1.0    0.0  \n",
       "2              0.0           1.0    0.0  \n",
       "3              0.0           0.0    0.0  \n",
       "4              0.0           0.0    0.0  "
      ]
     },
     "execution_count": 2,
     "metadata": {},
     "output_type": "execute_result"
    }
   ],
   "source": [
    "train_url = \"./Data/Train/train_data.csv\"\n",
    "test_url = \"./Data/Test/test_data.csv\"\n",
    "\n",
    "train_data = pd.read_csv(train_url)\n",
    "test_data = pd.read_csv(test_url)\n",
    "\n",
    "print(train_data.shape)\n",
    "print(test_data.shape)\n",
    "train_data.head()"
   ]
  },
  {
   "cell_type": "code",
   "execution_count": 3,
   "id": "5f2bcbb1",
   "metadata": {},
   "outputs": [
    {
     "name": "stdout",
     "output_type": "stream",
     "text": [
      "Train Data Shape (800000, 7) (800000,)\n",
      "0.0    730181\n",
      "1.0     69819\n",
      "Name: fraud, dtype: int64\n",
      "Test Data Shape (200000, 7) (200000,)\n",
      "0.0    182416\n",
      "1.0     17584\n",
      "Name: fraud, dtype: int64\n"
     ]
    },
    {
     "data": {
      "text/html": [
       "<div>\n",
       "<style scoped>\n",
       "    .dataframe tbody tr th:only-of-type {\n",
       "        vertical-align: middle;\n",
       "    }\n",
       "\n",
       "    .dataframe tbody tr th {\n",
       "        vertical-align: top;\n",
       "    }\n",
       "\n",
       "    .dataframe thead th {\n",
       "        text-align: right;\n",
       "    }\n",
       "</style>\n",
       "<table border=\"1\" class=\"dataframe\">\n",
       "  <thead>\n",
       "    <tr style=\"text-align: right;\">\n",
       "      <th></th>\n",
       "      <th>distance_from_home</th>\n",
       "      <th>distance_from_last_transaction</th>\n",
       "      <th>ratio_to_median_purchase_price</th>\n",
       "      <th>repeat_retailer</th>\n",
       "      <th>used_chip</th>\n",
       "      <th>used_pin_number</th>\n",
       "      <th>online_order</th>\n",
       "    </tr>\n",
       "  </thead>\n",
       "  <tbody>\n",
       "    <tr>\n",
       "      <th>0</th>\n",
       "      <td>5.572427</td>\n",
       "      <td>4.850337</td>\n",
       "      <td>1.149870</td>\n",
       "      <td>1.0</td>\n",
       "      <td>0.0</td>\n",
       "      <td>0.0</td>\n",
       "      <td>0.0</td>\n",
       "    </tr>\n",
       "    <tr>\n",
       "      <th>1</th>\n",
       "      <td>5.327530</td>\n",
       "      <td>3.933291</td>\n",
       "      <td>1.682739</td>\n",
       "      <td>1.0</td>\n",
       "      <td>1.0</td>\n",
       "      <td>0.0</td>\n",
       "      <td>1.0</td>\n",
       "    </tr>\n",
       "    <tr>\n",
       "      <th>2</th>\n",
       "      <td>78.945633</td>\n",
       "      <td>0.023222</td>\n",
       "      <td>2.740935</td>\n",
       "      <td>1.0</td>\n",
       "      <td>1.0</td>\n",
       "      <td>0.0</td>\n",
       "      <td>1.0</td>\n",
       "    </tr>\n",
       "    <tr>\n",
       "      <th>3</th>\n",
       "      <td>10.119026</td>\n",
       "      <td>26.548445</td>\n",
       "      <td>1.945075</td>\n",
       "      <td>1.0</td>\n",
       "      <td>0.0</td>\n",
       "      <td>0.0</td>\n",
       "      <td>0.0</td>\n",
       "    </tr>\n",
       "    <tr>\n",
       "      <th>4</th>\n",
       "      <td>33.646388</td>\n",
       "      <td>1.909240</td>\n",
       "      <td>0.888281</td>\n",
       "      <td>1.0</td>\n",
       "      <td>0.0</td>\n",
       "      <td>0.0</td>\n",
       "      <td>0.0</td>\n",
       "    </tr>\n",
       "  </tbody>\n",
       "</table>\n",
       "</div>"
      ],
      "text/plain": [
       "   distance_from_home  distance_from_last_transaction  \\\n",
       "0            5.572427                        4.850337   \n",
       "1            5.327530                        3.933291   \n",
       "2           78.945633                        0.023222   \n",
       "3           10.119026                       26.548445   \n",
       "4           33.646388                        1.909240   \n",
       "\n",
       "   ratio_to_median_purchase_price  repeat_retailer  used_chip  \\\n",
       "0                        1.149870              1.0        0.0   \n",
       "1                        1.682739              1.0        1.0   \n",
       "2                        2.740935              1.0        1.0   \n",
       "3                        1.945075              1.0        0.0   \n",
       "4                        0.888281              1.0        0.0   \n",
       "\n",
       "   used_pin_number  online_order  \n",
       "0              0.0           0.0  \n",
       "1              0.0           1.0  \n",
       "2              0.0           1.0  \n",
       "3              0.0           0.0  \n",
       "4              0.0           0.0  "
      ]
     },
     "execution_count": 3,
     "metadata": {},
     "output_type": "execute_result"
    }
   ],
   "source": [
    "train_X, train_Y = train_data.drop(\"fraud\", axis=1), train_data[\"fraud\"]\n",
    "test_X, test_Y = test_data.drop(\"fraud\", axis=1), test_data[\"fraud\"]\n",
    "print(\"Train Data Shape\", train_X.shape, train_Y.shape)\n",
    "print(train_Y.value_counts())\n",
    "print(\"Test Data Shape\", test_X.shape, test_Y.shape)\n",
    "print(test_Y.value_counts())\n",
    "train_X.head()"
   ]
  },
  {
   "cell_type": "code",
   "execution_count": 4,
   "id": "335c2477",
   "metadata": {},
   "outputs": [
    {
     "data": {
      "text/plain": [
       "(4, 7)"
      ]
     },
     "execution_count": 4,
     "metadata": {},
     "output_type": "execute_result"
    }
   ],
   "source": [
    "train_X.iloc[:4].shape"
   ]
  },
  {
   "cell_type": "markdown",
   "id": "1cabc43f",
   "metadata": {},
   "source": [
    "# Support Vector Machine Classifier"
   ]
  },
  {
   "cell_type": "markdown",
   "id": "96be1df2",
   "metadata": {},
   "source": [
    "## SVM with Default Hyperparamteres"
   ]
  },
  {
   "cell_type": "markdown",
   "id": "eba2bea0",
   "metadata": {},
   "source": [
    "Dataset is too massive, sample first 100,000 rows of the dataset."
   ]
  },
  {
   "cell_type": "code",
   "execution_count": 5,
   "id": "993dc6e4",
   "metadata": {},
   "outputs": [],
   "source": [
    "sample_size = 100000"
   ]
  },
  {
   "cell_type": "code",
   "execution_count": 6,
   "id": "86610a77",
   "metadata": {},
   "outputs": [
    {
     "data": {
      "text/plain": [
       "SVC()"
      ]
     },
     "execution_count": 6,
     "metadata": {},
     "output_type": "execute_result"
    }
   ],
   "source": [
    "# train default SVC\n",
    "svc_default=svm.SVC()\n",
    "svc_default.fit(train_X.iloc[:sample_size], train_Y.iloc[:sample_size])"
   ]
  },
  {
   "cell_type": "code",
   "execution_count": 8,
   "id": "95c9de37",
   "metadata": {},
   "outputs": [],
   "source": [
    "# predict on test set\n",
    "y_pred_default = svc_default.predict(test_X.iloc[:sample_size])"
   ]
  },
  {
   "cell_type": "code",
   "execution_count": 9,
   "id": "29267d4f",
   "metadata": {},
   "outputs": [
    {
     "name": "stdout",
     "output_type": "stream",
     "text": [
      "Model accuracy score with default hyperparameters: 0.9300\n"
     ]
    }
   ],
   "source": [
    "# output default hyperparameter accuracy score\n",
    "print('Model accuracy score with default hyperparameters: {0:0.4f}'. format(accuracy_score(test_Y.iloc[:sample_size], y_pred_default)))"
   ]
  },
  {
   "cell_type": "code",
   "execution_count": 11,
   "id": "af691339",
   "metadata": {},
   "outputs": [
    {
     "data": {
      "text/plain": [
       "array([[90388,   785],\n",
       "       [ 6214,  2613]])"
      ]
     },
     "execution_count": 11,
     "metadata": {},
     "output_type": "execute_result"
    }
   ],
   "source": [
    "# print confusion matrix\n",
    "confusion_matrix(test_Y.iloc[:sample_size], y_pred_default)"
   ]
  },
  {
   "cell_type": "markdown",
   "id": "7576a713",
   "metadata": {},
   "source": [
    "## SVM with C = 100, Higher C means fewer outliers"
   ]
  },
  {
   "cell_type": "code",
   "execution_count": 12,
   "id": "d0ebfeb3",
   "metadata": {},
   "outputs": [
    {
     "data": {
      "text/plain": [
       "SVC(C=100.0)"
      ]
     },
     "execution_count": 12,
     "metadata": {},
     "output_type": "execute_result"
    }
   ],
   "source": [
    "# train SVM with C = 100\n",
    "svc_highC = SVC(C=100.0) \n",
    "svc_highC.fit(train_X.iloc[:sample_size], train_Y.iloc[:sample_size])"
   ]
  },
  {
   "cell_type": "code",
   "execution_count": 13,
   "id": "f9cf53f7",
   "metadata": {},
   "outputs": [],
   "source": [
    "# predict on test set\n",
    "y_pred_highC = svc_highC.predict(test_X.iloc[:sample_size])"
   ]
  },
  {
   "cell_type": "code",
   "execution_count": 15,
   "id": "f1d79c99",
   "metadata": {},
   "outputs": [
    {
     "name": "stdout",
     "output_type": "stream",
     "text": [
      "Model accuracy score with High C Value: 0.9835\n"
     ]
    }
   ],
   "source": [
    "# output high C accuracy score\n",
    "print('Model accuracy score with High C = 100 Value: {0:0.4f}'. format(accuracy_score(test_Y.iloc[:sample_size], y_pred_highC)))"
   ]
  },
  {
   "cell_type": "code",
   "execution_count": 17,
   "id": "58f5cefe",
   "metadata": {},
   "outputs": [
    {
     "data": {
      "text/plain": [
       "array([[90863,   310],\n",
       "       [ 1336,  7491]])"
      ]
     },
     "execution_count": 17,
     "metadata": {},
     "output_type": "execute_result"
    }
   ],
   "source": [
    "# print confusion matrix\n",
    "confusion_matrix(test_Y.iloc[:sample_size], y_pred_highC)"
   ]
  },
  {
   "cell_type": "markdown",
   "id": "722d80e8",
   "metadata": {},
   "source": [
    "## SVM with C = 1000, Higher C means fewer outliers"
   ]
  },
  {
   "cell_type": "code",
   "execution_count": 19,
   "id": "9d2f29fa",
   "metadata": {},
   "outputs": [
    {
     "data": {
      "text/plain": [
       "SVC(C=1000.0)"
      ]
     },
     "execution_count": 19,
     "metadata": {},
     "output_type": "execute_result"
    }
   ],
   "source": [
    "# train SVM with higher C = 1000\n",
    "svc_higherC = SVC(C=1000.0)\n",
    "svc_higherC.fit(train_X.iloc[:sample_size], train_Y.iloc[:sample_size])"
   ]
  },
  {
   "cell_type": "code",
   "execution_count": 20,
   "id": "53fde6af",
   "metadata": {},
   "outputs": [],
   "source": [
    "# predict on test set\n",
    "y_pred_higherC = svc_higherC.predict(test_X.iloc[:sample_size])"
   ]
  },
  {
   "cell_type": "code",
   "execution_count": 21,
   "id": "35f4d45f",
   "metadata": {},
   "outputs": [
    {
     "name": "stdout",
     "output_type": "stream",
     "text": [
      "Model accuracy score with Higher C = 1000 Value: 0.9901\n"
     ]
    }
   ],
   "source": [
    "# output high C accuracy score\n",
    "print('Model accuracy score with Higher C = 1000 Value: {0:0.4f}'. format(accuracy_score(test_Y.iloc[:sample_size], y_pred_higherC)))"
   ]
  },
  {
   "cell_type": "code",
   "execution_count": 22,
   "id": "fa153e45",
   "metadata": {},
   "outputs": [
    {
     "data": {
      "text/plain": [
       "array([[90934,   239],\n",
       "       [  747,  8080]])"
      ]
     },
     "execution_count": 22,
     "metadata": {},
     "output_type": "execute_result"
    }
   ],
   "source": [
    "# print confusion matrix\n",
    "confusion_matrix(test_Y.iloc[:sample_size], y_pred_higherC)"
   ]
  },
  {
   "cell_type": "markdown",
   "id": "489377d7",
   "metadata": {},
   "source": [
    "## SVM with linear kernel and C = 1.0"
   ]
  },
  {
   "cell_type": "code",
   "execution_count": 23,
   "id": "2b1723ad",
   "metadata": {},
   "outputs": [
    {
     "data": {
      "text/plain": [
       "SVC(kernel='linear')"
      ]
     },
     "execution_count": 23,
     "metadata": {},
     "output_type": "execute_result"
    }
   ],
   "source": [
    "linear_C1 = svm.SVC(kernel='linear', C=1.0)\n",
    "linear_C1.fit(train_X.iloc[:sample_size], train_Y.iloc[:sample_size])"
   ]
  },
  {
   "cell_type": "code",
   "execution_count": 24,
   "id": "9fe61f57",
   "metadata": {},
   "outputs": [],
   "source": [
    "y_pred_linear_C1 = linear_C1.predict(test_X.iloc[:sample_size])"
   ]
  },
  {
   "cell_type": "code",
   "execution_count": 26,
   "id": "e9998590",
   "metadata": {},
   "outputs": [
    {
     "data": {
      "text/plain": [
       "0.96031"
      ]
     },
     "execution_count": 26,
     "metadata": {},
     "output_type": "execute_result"
    }
   ],
   "source": [
    "# get accuracy\n",
    "accuracy_score(test_Y.iloc[:sample_size], y_pred_linear_C1)"
   ]
  },
  {
   "cell_type": "code",
   "execution_count": 27,
   "id": "a93bb54c",
   "metadata": {
    "scrolled": true
   },
   "outputs": [
    {
     "data": {
      "text/plain": [
       "array([[90530,   643],\n",
       "       [ 3326,  5501]])"
      ]
     },
     "execution_count": 27,
     "metadata": {},
     "output_type": "execute_result"
    }
   ],
   "source": [
    "confusion_matrix(test_Y.iloc[:sample_size], y_pred_linear_C1)"
   ]
  },
  {
   "cell_type": "markdown",
   "id": "965012c5",
   "metadata": {},
   "source": [
    "## SVM with linear kernel and C = 100.0"
   ]
  },
  {
   "cell_type": "code",
   "execution_count": null,
   "id": "b8840495",
   "metadata": {},
   "outputs": [],
   "source": [
    "linear_C100 = svm.SVC(kernel='linear', C=100.0)\n",
    "linear_C100.fit(train_X.iloc[:sample_size], train_Y.iloc[:sample_size])"
   ]
  },
  {
   "cell_type": "code",
   "execution_count": null,
   "id": "4ae0ecd9",
   "metadata": {},
   "outputs": [],
   "source": [
    "y_pred_linear_C100 = linear_C100.predict(test_X.iloc[:sample_size])"
   ]
  },
  {
   "cell_type": "code",
   "execution_count": null,
   "id": "00b4a44e",
   "metadata": {},
   "outputs": [],
   "source": [
    "# get accuracy\n",
    "accuracy_score(test_Y.iloc[:sample_size], y_pred_linear_C100)"
   ]
  },
  {
   "cell_type": "code",
   "execution_count": null,
   "id": "b1126104",
   "metadata": {},
   "outputs": [],
   "source": [
    "confusion_matrix(test_Y.iloc[:sample_size], y_pred_linear_C100)"
   ]
  },
  {
   "cell_type": "markdown",
   "id": "1b3457b6",
   "metadata": {},
   "source": [
    "## SVM with linear kernel and C = 1000.0"
   ]
  },
  {
   "cell_type": "code",
   "execution_count": null,
   "id": "8a84e1c8",
   "metadata": {},
   "outputs": [],
   "source": [
    "linear_C1000 = svm.SVC(kernel='linear', C=1000.0)\n",
    "linear_C1000.fit(train_X.iloc[:sample_size], train_Y.iloc[:sample_size])"
   ]
  },
  {
   "cell_type": "code",
   "execution_count": null,
   "id": "3ba69871",
   "metadata": {},
   "outputs": [],
   "source": [
    "y_pred_linear_C1000 = linear_C1000.predict(test_X.iloc[:sample_size])"
   ]
  },
  {
   "cell_type": "code",
   "execution_count": null,
   "id": "0d54e748",
   "metadata": {},
   "outputs": [],
   "source": [
    "# get accuracy\n",
    "accuracy_score(test_Y.iloc[:sample_size], y_pred_linear_C1000)"
   ]
  },
  {
   "cell_type": "code",
   "execution_count": null,
   "id": "17d00bbb",
   "metadata": {},
   "outputs": [],
   "source": [
    "confusion_matrix(test_Y.iloc[:sample_size], y_pred_linear_C1000)"
   ]
  },
  {
   "cell_type": "markdown",
   "id": "0121dfd2",
   "metadata": {},
   "source": [
    "## SVM with polynomial kernel and C = 1.0"
   ]
  },
  {
   "cell_type": "code",
   "execution_count": null,
   "id": "bfbba4b9",
   "metadata": {},
   "outputs": [],
   "source": [
    "poly_C1 = svm.SVC(kernel='poly', C=1.0)\n",
    "poly_C1.fit(train_X.iloc[:sample_size], train_Y.iloc[:sample_size])"
   ]
  },
  {
   "cell_type": "code",
   "execution_count": null,
   "id": "29af9111",
   "metadata": {},
   "outputs": [],
   "source": [
    "y_pred_poly_C1 = poly_C1.predict(test_X.iloc[:sample_size])"
   ]
  },
  {
   "cell_type": "code",
   "execution_count": null,
   "id": "706259b5",
   "metadata": {},
   "outputs": [],
   "source": [
    "# get accuracy\n",
    "accuracy_score(test_Y.iloc[:sample_size], y_pred_poly_C1)"
   ]
  },
  {
   "cell_type": "code",
   "execution_count": null,
   "id": "42a94482",
   "metadata": {},
   "outputs": [],
   "source": [
    "confusion_matrix(test_Y.iloc[:sample_size], y_pred_poly_C1)"
   ]
  },
  {
   "cell_type": "markdown",
   "id": "d0064b79",
   "metadata": {},
   "source": [
    "## SVM with polynomial kernel and C = 100.0"
   ]
  },
  {
   "cell_type": "code",
   "execution_count": null,
   "id": "40c4c41a",
   "metadata": {},
   "outputs": [],
   "source": [
    "poly_C100 = svm.SVC(kernel='poly', C=100.0)\n",
    "poly_C100.fit(train_X.iloc[:sample_size], train_Y.iloc[:sample_size])"
   ]
  },
  {
   "cell_type": "code",
   "execution_count": null,
   "id": "fcb32681",
   "metadata": {},
   "outputs": [],
   "source": [
    "y_pred_poly_C100 = poly_C100.predict(test_X.iloc[:sample_size])"
   ]
  },
  {
   "cell_type": "code",
   "execution_count": null,
   "id": "ba9fc77c",
   "metadata": {},
   "outputs": [],
   "source": [
    "# get accuracy\n",
    "accuracy_score(test_Y.iloc[:sample_size], y_pred_poly_C100)"
   ]
  },
  {
   "cell_type": "code",
   "execution_count": null,
   "id": "b701fea0",
   "metadata": {},
   "outputs": [],
   "source": [
    "confusion_matrix(test_Y.iloc[:sample_size], y_pred_poly_C100)"
   ]
  },
  {
   "cell_type": "markdown",
   "id": "ae3522de",
   "metadata": {},
   "source": [
    "## SVM with polynomial kernel and C = 1000.0"
   ]
  },
  {
   "cell_type": "code",
   "execution_count": null,
   "id": "9e0a21f2",
   "metadata": {},
   "outputs": [],
   "source": [
    "poly_C1000 = svm.SVC(kernel='poly', C=1000.0)\n",
    "poly_C1000.fit(train_X.iloc[:sample_size], train_Y.iloc[:sample_size])"
   ]
  },
  {
   "cell_type": "code",
   "execution_count": null,
   "id": "11e4042c",
   "metadata": {},
   "outputs": [],
   "source": [
    "y_pred_poly_C1000 = poly_C1000.predict(test_X.iloc[:sample_size])"
   ]
  },
  {
   "cell_type": "code",
   "execution_count": null,
   "id": "4159a0d4",
   "metadata": {},
   "outputs": [],
   "source": [
    "# get accuracy\n",
    "accuracy_score(test_Y.iloc[:sample_size], y_pred_poly_C1000)"
   ]
  },
  {
   "cell_type": "code",
   "execution_count": null,
   "id": "7501d4f8",
   "metadata": {},
   "outputs": [],
   "source": [
    "confusion_matrix(test_Y.iloc[:sample_size], y_pred_poly_C1000)"
   ]
  },
  {
   "cell_type": "markdown",
   "id": "168bc7d1",
   "metadata": {},
   "source": [
    "## SVM with sigmoid kernel and C = 1.0"
   ]
  },
  {
   "cell_type": "code",
   "execution_count": null,
   "id": "9be4a287",
   "metadata": {},
   "outputs": [],
   "source": [
    "sig_C1 = svm.SVC(kernel='sigmoid', C=1.0)\n",
    "sig_C1.fit(train_X.iloc[:sample_size], train_Y.iloc[:sample_size])"
   ]
  },
  {
   "cell_type": "code",
   "execution_count": null,
   "id": "b79c8988",
   "metadata": {},
   "outputs": [],
   "source": [
    "y_pred_sig_C1 = sig_C1.predict(test_X.iloc[:sample_size])"
   ]
  },
  {
   "cell_type": "code",
   "execution_count": null,
   "id": "32cb36a2",
   "metadata": {},
   "outputs": [],
   "source": [
    "# get accuracy\n",
    "accuracy_score(test_Y.iloc[:sample_size], y_pred_sig_C1)"
   ]
  },
  {
   "cell_type": "code",
   "execution_count": null,
   "id": "f855b643",
   "metadata": {},
   "outputs": [],
   "source": [
    "confusion_matrix(test_Y.iloc[:sample_size], y_pred_sig_C1)"
   ]
  },
  {
   "cell_type": "markdown",
   "id": "b7e769a9",
   "metadata": {},
   "source": [
    "## SVM with sigmoid kernel and C = 100.0"
   ]
  },
  {
   "cell_type": "code",
   "execution_count": null,
   "id": "888b9c0e",
   "metadata": {},
   "outputs": [],
   "source": [
    "sig_C100 = svm.SVC(kernel='sigmoid', C=100.0)\n",
    "sig_C100.fit(train_X.iloc[:sample_size], train_Y.iloc[:sample_size])"
   ]
  },
  {
   "cell_type": "code",
   "execution_count": null,
   "id": "b09aaa43",
   "metadata": {},
   "outputs": [],
   "source": [
    "y_pred_sig_C100 = sig_C100.predict(test_X.iloc[:sample_size])"
   ]
  },
  {
   "cell_type": "code",
   "execution_count": null,
   "id": "01763c2e",
   "metadata": {},
   "outputs": [],
   "source": [
    "# get accuracy\n",
    "accuracy_score(test_Y.iloc[:sample_size], y_pred_sig_C100)"
   ]
  },
  {
   "cell_type": "code",
   "execution_count": null,
   "id": "b8bbd4c4",
   "metadata": {},
   "outputs": [],
   "source": [
    "confusion_matrix(test_Y.iloc[:sample_size], y_pred_sig_C100)"
   ]
  },
  {
   "cell_type": "markdown",
   "id": "582734b0",
   "metadata": {},
   "source": [
    "## SVM with sigmoid kernel and C = 1000.0"
   ]
  },
  {
   "cell_type": "code",
   "execution_count": null,
   "id": "5cb0b493",
   "metadata": {},
   "outputs": [],
   "source": [
    "sig_C1000 = svm.SVC(kernel='sigmoid', C=1000.0)\n",
    "sig_C1000.fit(train_X.iloc[:sample_size], train_Y.iloc[:sample_size])"
   ]
  },
  {
   "cell_type": "code",
   "execution_count": null,
   "id": "17dacc97",
   "metadata": {},
   "outputs": [],
   "source": [
    "y_pred_sig_C1000 = sig_C1000.predict(test_X.iloc[:sample_size])"
   ]
  },
  {
   "cell_type": "code",
   "execution_count": null,
   "id": "04c9e5e8",
   "metadata": {},
   "outputs": [],
   "source": [
    "# get accuracy\n",
    "accuracy_score(test_Y.iloc[:sample_size], y_pred_sig_C1000)"
   ]
  },
  {
   "cell_type": "code",
   "execution_count": null,
   "id": "2324aa9e",
   "metadata": {},
   "outputs": [],
   "source": [
    "confusion_matrix(test_Y.iloc[:sample_size], y_pred_sig_C1000)"
   ]
  },
  {
   "cell_type": "markdown",
   "id": "20ebc4bf",
   "metadata": {},
   "source": [
    "## Most Optimal Model"
   ]
  },
  {
   "cell_type": "code",
   "execution_count": null,
   "id": "306193b2",
   "metadata": {},
   "outputs": [],
   "source": [
    "#Show the best model\n",
    "#show confusion matrix with image and color\n",
    "#show the f_1 score"
   ]
  },
  {
   "cell_type": "code",
   "execution_count": null,
   "id": "3bd8ffde",
   "metadata": {},
   "outputs": [],
   "source": []
  },
  {
   "cell_type": "code",
   "execution_count": null,
   "id": "08791885",
   "metadata": {},
   "outputs": [],
   "source": []
  }
 ],
 "metadata": {
  "kernelspec": {
   "display_name": "Python 3",
   "language": "python",
   "name": "python3"
  },
  "language_info": {
   "codemirror_mode": {
    "name": "ipython",
    "version": 3
   },
   "file_extension": ".py",
   "mimetype": "text/x-python",
   "name": "python",
   "nbconvert_exporter": "python",
   "pygments_lexer": "ipython3",
   "version": "3.8.8"
  }
 },
 "nbformat": 4,
 "nbformat_minor": 5
}
