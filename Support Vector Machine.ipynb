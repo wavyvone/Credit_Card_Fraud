{
 "cells": [
  {
   "cell_type": "code",
   "execution_count": 5,
   "id": "1587e8cf",
   "metadata": {},
   "outputs": [],
   "source": [
    "import pandas as pd\n",
    "from sklearn import svm, datasets\n",
    "from sklearn.svm import SVC\n",
    "from sklearn.metrics import accuracy_score, confusion_matrix, classification_report\n",
    "from sklearn.multiclass import OneVsRestClassifier"
   ]
  },
  {
   "cell_type": "code",
   "execution_count": 2,
   "id": "8acd7d7e",
   "metadata": {},
   "outputs": [
    {
     "name": "stdout",
     "output_type": "stream",
     "text": [
      "(800000, 8)\n",
      "(200000, 8)\n"
     ]
    },
    {
     "data": {
      "text/html": [
       "<div>\n",
       "<style scoped>\n",
       "    .dataframe tbody tr th:only-of-type {\n",
       "        vertical-align: middle;\n",
       "    }\n",
       "\n",
       "    .dataframe tbody tr th {\n",
       "        vertical-align: top;\n",
       "    }\n",
       "\n",
       "    .dataframe thead th {\n",
       "        text-align: right;\n",
       "    }\n",
       "</style>\n",
       "<table border=\"1\" class=\"dataframe\">\n",
       "  <thead>\n",
       "    <tr style=\"text-align: right;\">\n",
       "      <th></th>\n",
       "      <th>distance_from_home</th>\n",
       "      <th>distance_from_last_transaction</th>\n",
       "      <th>ratio_to_median_purchase_price</th>\n",
       "      <th>repeat_retailer</th>\n",
       "      <th>used_chip</th>\n",
       "      <th>used_pin_number</th>\n",
       "      <th>online_order</th>\n",
       "      <th>fraud</th>\n",
       "    </tr>\n",
       "  </thead>\n",
       "  <tbody>\n",
       "    <tr>\n",
       "      <th>0</th>\n",
       "      <td>5.572427</td>\n",
       "      <td>4.850337</td>\n",
       "      <td>1.149870</td>\n",
       "      <td>1.0</td>\n",
       "      <td>0.0</td>\n",
       "      <td>0.0</td>\n",
       "      <td>0.0</td>\n",
       "      <td>0.0</td>\n",
       "    </tr>\n",
       "    <tr>\n",
       "      <th>1</th>\n",
       "      <td>5.327530</td>\n",
       "      <td>3.933291</td>\n",
       "      <td>1.682739</td>\n",
       "      <td>1.0</td>\n",
       "      <td>1.0</td>\n",
       "      <td>0.0</td>\n",
       "      <td>1.0</td>\n",
       "      <td>0.0</td>\n",
       "    </tr>\n",
       "    <tr>\n",
       "      <th>2</th>\n",
       "      <td>78.945633</td>\n",
       "      <td>0.023222</td>\n",
       "      <td>2.740935</td>\n",
       "      <td>1.0</td>\n",
       "      <td>1.0</td>\n",
       "      <td>0.0</td>\n",
       "      <td>1.0</td>\n",
       "      <td>0.0</td>\n",
       "    </tr>\n",
       "    <tr>\n",
       "      <th>3</th>\n",
       "      <td>10.119026</td>\n",
       "      <td>26.548445</td>\n",
       "      <td>1.945075</td>\n",
       "      <td>1.0</td>\n",
       "      <td>0.0</td>\n",
       "      <td>0.0</td>\n",
       "      <td>0.0</td>\n",
       "      <td>0.0</td>\n",
       "    </tr>\n",
       "    <tr>\n",
       "      <th>4</th>\n",
       "      <td>33.646388</td>\n",
       "      <td>1.909240</td>\n",
       "      <td>0.888281</td>\n",
       "      <td>1.0</td>\n",
       "      <td>0.0</td>\n",
       "      <td>0.0</td>\n",
       "      <td>0.0</td>\n",
       "      <td>0.0</td>\n",
       "    </tr>\n",
       "  </tbody>\n",
       "</table>\n",
       "</div>"
      ],
      "text/plain": [
       "   distance_from_home  distance_from_last_transaction  \\\n",
       "0            5.572427                        4.850337   \n",
       "1            5.327530                        3.933291   \n",
       "2           78.945633                        0.023222   \n",
       "3           10.119026                       26.548445   \n",
       "4           33.646388                        1.909240   \n",
       "\n",
       "   ratio_to_median_purchase_price  repeat_retailer  used_chip  \\\n",
       "0                        1.149870              1.0        0.0   \n",
       "1                        1.682739              1.0        1.0   \n",
       "2                        2.740935              1.0        1.0   \n",
       "3                        1.945075              1.0        0.0   \n",
       "4                        0.888281              1.0        0.0   \n",
       "\n",
       "   used_pin_number  online_order  fraud  \n",
       "0              0.0           0.0    0.0  \n",
       "1              0.0           1.0    0.0  \n",
       "2              0.0           1.0    0.0  \n",
       "3              0.0           0.0    0.0  \n",
       "4              0.0           0.0    0.0  "
      ]
     },
     "execution_count": 2,
     "metadata": {},
     "output_type": "execute_result"
    }
   ],
   "source": [
    "train_url = \"./Data/Train/train_data.csv\"\n",
    "test_url = \"./Data/Test/test_data.csv\"\n",
    "\n",
    "train_data = pd.read_csv(train_url)\n",
    "test_data = pd.read_csv(test_url)\n",
    "\n",
    "print(train_data.shape)\n",
    "print(test_data.shape)\n",
    "train_data.head()"
   ]
  },
  {
   "cell_type": "code",
   "execution_count": 3,
   "id": "5f2bcbb1",
   "metadata": {},
   "outputs": [
    {
     "name": "stdout",
     "output_type": "stream",
     "text": [
      "Train Data Shape (800000, 7) (800000,)\n",
      "0.0    730181\n",
      "1.0     69819\n",
      "Name: fraud, dtype: int64\n",
      "Test Data Shape (200000, 7) (200000,)\n",
      "0.0    182416\n",
      "1.0     17584\n",
      "Name: fraud, dtype: int64\n"
     ]
    },
    {
     "data": {
      "text/html": [
       "<div>\n",
       "<style scoped>\n",
       "    .dataframe tbody tr th:only-of-type {\n",
       "        vertical-align: middle;\n",
       "    }\n",
       "\n",
       "    .dataframe tbody tr th {\n",
       "        vertical-align: top;\n",
       "    }\n",
       "\n",
       "    .dataframe thead th {\n",
       "        text-align: right;\n",
       "    }\n",
       "</style>\n",
       "<table border=\"1\" class=\"dataframe\">\n",
       "  <thead>\n",
       "    <tr style=\"text-align: right;\">\n",
       "      <th></th>\n",
       "      <th>distance_from_home</th>\n",
       "      <th>distance_from_last_transaction</th>\n",
       "      <th>ratio_to_median_purchase_price</th>\n",
       "      <th>repeat_retailer</th>\n",
       "      <th>used_chip</th>\n",
       "      <th>used_pin_number</th>\n",
       "      <th>online_order</th>\n",
       "    </tr>\n",
       "  </thead>\n",
       "  <tbody>\n",
       "    <tr>\n",
       "      <th>0</th>\n",
       "      <td>5.572427</td>\n",
       "      <td>4.850337</td>\n",
       "      <td>1.149870</td>\n",
       "      <td>1.0</td>\n",
       "      <td>0.0</td>\n",
       "      <td>0.0</td>\n",
       "      <td>0.0</td>\n",
       "    </tr>\n",
       "    <tr>\n",
       "      <th>1</th>\n",
       "      <td>5.327530</td>\n",
       "      <td>3.933291</td>\n",
       "      <td>1.682739</td>\n",
       "      <td>1.0</td>\n",
       "      <td>1.0</td>\n",
       "      <td>0.0</td>\n",
       "      <td>1.0</td>\n",
       "    </tr>\n",
       "    <tr>\n",
       "      <th>2</th>\n",
       "      <td>78.945633</td>\n",
       "      <td>0.023222</td>\n",
       "      <td>2.740935</td>\n",
       "      <td>1.0</td>\n",
       "      <td>1.0</td>\n",
       "      <td>0.0</td>\n",
       "      <td>1.0</td>\n",
       "    </tr>\n",
       "    <tr>\n",
       "      <th>3</th>\n",
       "      <td>10.119026</td>\n",
       "      <td>26.548445</td>\n",
       "      <td>1.945075</td>\n",
       "      <td>1.0</td>\n",
       "      <td>0.0</td>\n",
       "      <td>0.0</td>\n",
       "      <td>0.0</td>\n",
       "    </tr>\n",
       "    <tr>\n",
       "      <th>4</th>\n",
       "      <td>33.646388</td>\n",
       "      <td>1.909240</td>\n",
       "      <td>0.888281</td>\n",
       "      <td>1.0</td>\n",
       "      <td>0.0</td>\n",
       "      <td>0.0</td>\n",
       "      <td>0.0</td>\n",
       "    </tr>\n",
       "  </tbody>\n",
       "</table>\n",
       "</div>"
      ],
      "text/plain": [
       "   distance_from_home  distance_from_last_transaction  \\\n",
       "0            5.572427                        4.850337   \n",
       "1            5.327530                        3.933291   \n",
       "2           78.945633                        0.023222   \n",
       "3           10.119026                       26.548445   \n",
       "4           33.646388                        1.909240   \n",
       "\n",
       "   ratio_to_median_purchase_price  repeat_retailer  used_chip  \\\n",
       "0                        1.149870              1.0        0.0   \n",
       "1                        1.682739              1.0        1.0   \n",
       "2                        2.740935              1.0        1.0   \n",
       "3                        1.945075              1.0        0.0   \n",
       "4                        0.888281              1.0        0.0   \n",
       "\n",
       "   used_pin_number  online_order  \n",
       "0              0.0           0.0  \n",
       "1              0.0           1.0  \n",
       "2              0.0           1.0  \n",
       "3              0.0           0.0  \n",
       "4              0.0           0.0  "
      ]
     },
     "execution_count": 3,
     "metadata": {},
     "output_type": "execute_result"
    }
   ],
   "source": [
    "train_X, train_Y = train_data.drop(\"fraud\", axis=1), train_data[\"fraud\"]\n",
    "test_X, test_Y = test_data.drop(\"fraud\", axis=1), test_data[\"fraud\"]\n",
    "print(\"Train Data Shape\", train_X.shape, train_Y.shape)\n",
    "print(train_Y.value_counts())\n",
    "print(\"Test Data Shape\", test_X.shape, test_Y.shape)\n",
    "print(test_Y.value_counts())\n",
    "train_X.head()"
   ]
  },
  {
   "cell_type": "code",
   "execution_count": 12,
   "id": "335c2477",
   "metadata": {},
   "outputs": [
    {
     "data": {
      "text/plain": [
       "(4, 7)"
      ]
     },
     "execution_count": 12,
     "metadata": {},
     "output_type": "execute_result"
    }
   ],
   "source": [
    "train_X.iloc[:4].shape"
   ]
  },
  {
   "cell_type": "markdown",
   "id": "1cabc43f",
   "metadata": {},
   "source": [
    "# Support Vector Machine Classifier"
   ]
  },
  {
   "cell_type": "markdown",
   "id": "96be1df2",
   "metadata": {},
   "source": [
    "## Linear SVM"
   ]
  },
  {
   "cell_type": "markdown",
   "id": "eba2bea0",
   "metadata": {},
   "source": [
    "Dataset is too massive, sample first 100,000 rows of the dataset."
   ]
  },
  {
   "cell_type": "code",
   "execution_count": 23,
   "id": "993dc6e4",
   "metadata": {},
   "outputs": [],
   "source": [
    "sample_size = 100000"
   ]
  },
  {
   "cell_type": "code",
   "execution_count": 24,
   "id": "2b1723ad",
   "metadata": {},
   "outputs": [
    {
     "data": {
      "text/plain": [
       "SVC(kernel='linear')"
      ]
     },
     "execution_count": 24,
     "metadata": {},
     "output_type": "execute_result"
    }
   ],
   "source": [
    "clf = svm.SVC(kernel='linear')\n",
    "clf.fit(train_X.iloc[:sample_size], train_Y.iloc[:sample_size])"
   ]
  },
  {
   "cell_type": "code",
   "execution_count": 25,
   "id": "9fe61f57",
   "metadata": {},
   "outputs": [],
   "source": [
    "pred_Test_Y = clf.predict(test_X.iloc[:sample_size])"
   ]
  },
  {
   "cell_type": "code",
   "execution_count": 26,
   "id": "e9998590",
   "metadata": {},
   "outputs": [
    {
     "data": {
      "text/plain": [
       "0.96031"
      ]
     },
     "execution_count": 26,
     "metadata": {},
     "output_type": "execute_result"
    }
   ],
   "source": [
    "# get accuracy\n",
    "accuracy_score(test_Y.iloc[:sample_size], pred_Test_Y)"
   ]
  },
  {
   "cell_type": "code",
   "execution_count": 27,
   "id": "a93bb54c",
   "metadata": {
    "scrolled": true
   },
   "outputs": [
    {
     "data": {
      "text/plain": [
       "array([[90530,   643],\n",
       "       [ 3326,  5501]])"
      ]
     },
     "execution_count": 27,
     "metadata": {},
     "output_type": "execute_result"
    }
   ],
   "source": [
    "confusion_matrix(test_Y.iloc[:sample_size], pred_Test_Y)"
   ]
  },
  {
   "cell_type": "markdown",
   "id": "20ebc4bf",
   "metadata": {},
   "source": [
    "## OneVsRestClassifier"
   ]
  },
  {
   "cell_type": "code",
   "execution_count": null,
   "id": "306193b2",
   "metadata": {},
   "outputs": [],
   "source": [
    "one_v_rest_clf = OneVsRestClassifier(SVC(kernel='linear', probability=True), n_jobs=-1)\n",
    "one_v_rest_clf.fit(train_X.iloc[:sample_size], train_Y.iloc[:sample_size])"
   ]
  },
  {
   "cell_type": "code",
   "execution_count": null,
   "id": "3bd8ffde",
   "metadata": {},
   "outputs": [],
   "source": [
    "pred_Test_Y_ovr = one_v_rest_clf.predict(test_X.iloc[:sample_size])"
   ]
  },
  {
   "cell_type": "code",
   "execution_count": null,
   "id": "08791885",
   "metadata": {},
   "outputs": [],
   "source": [
    "accuracy_score(test_Y.iloc[:sample_size], pred_Test_Y_ovr)"
   ]
  }
 ],
 "metadata": {
  "kernelspec": {
   "display_name": "Python 3",
   "language": "python",
   "name": "python3"
  },
  "language_info": {
   "codemirror_mode": {
    "name": "ipython",
    "version": 3
   },
   "file_extension": ".py",
   "mimetype": "text/x-python",
   "name": "python",
   "nbconvert_exporter": "python",
   "pygments_lexer": "ipython3",
   "version": "3.8.8"
  }
 },
 "nbformat": 4,
 "nbformat_minor": 5
}
